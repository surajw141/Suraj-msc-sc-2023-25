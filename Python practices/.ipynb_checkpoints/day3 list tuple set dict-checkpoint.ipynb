{
 "cells": [
  {
   "cell_type": "markdown",
   "id": "dee9226f-0692-4c1c-807b-e196bc238730",
   "metadata": {
    "editable": true,
    "slideshow": {
     "slide_type": ""
    },
    "tags": []
   },
   "source": [
    "Lists"
   ]
  },
  {
   "cell_type": "markdown",
   "id": "cf1e2c61-6b09-4b12-9b61-092108e7da15",
   "metadata": {},
   "source": [
    "Create a list"
   ]
  },
  {
   "cell_type": "code",
   "execution_count": 32,
   "id": "adf50516-0bed-408c-873a-f193cd3abe07",
   "metadata": {},
   "outputs": [],
   "source": [
    "fruits = [\"apple\", \"banana\", \"orange\", \"grape\"]"
   ]
  },
  {
   "cell_type": "markdown",
   "id": "821590c6-8541-42c6-ab0a-61bb96787c10",
   "metadata": {},
   "source": [
    "append() : Adds an item to the end of the list"
   ]
  },
  {
   "cell_type": "code",
   "execution_count": 34,
   "id": "bddd8bd6-ed45-405d-b1f2-764ac7751353",
   "metadata": {},
   "outputs": [],
   "source": [
    "fruits.append(\"kiwi\")"
   ]
  },
  {
   "cell_type": "code",
   "execution_count": 36,
   "id": "204bb4d7-ab11-430d-bd43-489726f7da0f",
   "metadata": {},
   "outputs": [
    {
     "data": {
      "text/plain": [
       "['apple', 'banana', 'orange', 'grape', 'kiwi']"
      ]
     },
     "execution_count": 36,
     "metadata": {},
     "output_type": "execute_result"
    }
   ],
   "source": [
    "fruits"
   ]
  },
  {
   "cell_type": "markdown",
   "id": "32c02cda-2aaa-4bbd-88ff-ff25883be9c9",
   "metadata": {},
   "source": [
    "extend() : Appends items from another list to the end of the current list"
   ]
  },
  {
   "cell_type": "code",
   "execution_count": 38,
   "id": "4f112afa-3020-44eb-a057-fbd740b28f48",
   "metadata": {},
   "outputs": [],
   "source": [
    "berries = [\"strawberry\", \"blueberry\", \"raspberry\"]\n",
    "fruits.extend(berries)\n",
    "# fruits: ['apple', 'banana', 'orange', 'grape', 'kiwi', 'strawberry', 'blueberry', 'raspberry']"
   ]
  },
  {
   "cell_type": "code",
   "execution_count": 40,
   "id": "c233afbc-3198-440a-931f-3cdc89fce792",
   "metadata": {},
   "outputs": [
    {
     "data": {
      "text/plain": [
       "['apple',\n",
       " 'banana',\n",
       " 'orange',\n",
       " 'grape',\n",
       " 'kiwi',\n",
       " 'strawberry',\n",
       " 'blueberry',\n",
       " 'raspberry']"
      ]
     },
     "execution_count": 40,
     "metadata": {},
     "output_type": "execute_result"
    }
   ],
   "source": [
    "fruits"
   ]
  },
  {
   "cell_type": "code",
   "execution_count": null,
   "id": "d52bcedd-14d7-4b7e-9ae2-9aeae7fbd441",
   "metadata": {},
   "outputs": [],
   "source": []
  },
  {
   "cell_type": "code",
   "execution_count": null,
   "id": "6bf735c3-54fb-4769-aea4-3c748a68059a",
   "metadata": {},
   "outputs": [],
   "source": []
  },
  {
   "cell_type": "markdown",
   "id": "6ac7b5e9-9269-4477-ab78-f25a97750815",
   "metadata": {},
   "source": [
    "insert() : Inserts an item at a specific index in the list."
   ]
  },
  {
   "cell_type": "code",
   "execution_count": 42,
   "id": "2cc38c75-f36c-4688-bd69-fff20935740e",
   "metadata": {},
   "outputs": [
    {
     "data": {
      "text/plain": [
       "['apple',\n",
       " 'mango',\n",
       " 'banana',\n",
       " 'orange',\n",
       " 'grape',\n",
       " 'kiwi',\n",
       " 'strawberry',\n",
       " 'blueberry',\n",
       " 'raspberry']"
      ]
     },
     "execution_count": 42,
     "metadata": {},
     "output_type": "execute_result"
    }
   ],
   "source": [
    "fruits.insert(1, \"mango\")\n",
    "fruits\n",
    "# fruits: ['apple', 'mango', 'banana', 'orange', 'grape', 'kiwi', 'strawberry', 'blueberry', 'raspberry']"
   ]
  },
  {
   "cell_type": "markdown",
   "id": "21f91048-45d4-4732-82b5-61818f574aa6",
   "metadata": {},
   "source": [
    "1. remove() : Removes the first occurrence of a specified item from the list."
   ]
  },
  {
   "cell_type": "code",
   "execution_count": 45,
   "id": "a51ce9a8-be48-4738-b3e0-2ad86bffe201",
   "metadata": {},
   "outputs": [
    {
     "data": {
      "text/plain": [
       "['apple',\n",
       " 'mango',\n",
       " 'orange',\n",
       " 'grape',\n",
       " 'kiwi',\n",
       " 'strawberry',\n",
       " 'blueberry',\n",
       " 'raspberry']"
      ]
     },
     "execution_count": 45,
     "metadata": {},
     "output_type": "execute_result"
    }
   ],
   "source": [
    "fruits.remove( \"banana\")\n",
    "\n",
    "fruits"
   ]
  },
  {
   "cell_type": "markdown",
   "id": "78b876c1-7c4f-4047-b76d-7d23d7b026bc",
   "metadata": {},
   "source": [
    "pop() : Removes and returns an item at a specified index (defaults to the last\n",
    "\n",
    "item if the index is not provided)."
   ]
  },
  {
   "cell_type": "code",
   "execution_count": 47,
   "id": "033f8f77-4ab3-401d-bcb9-b3b534532a6e",
   "metadata": {},
   "outputs": [
    {
     "data": {
      "text/plain": [
       "'mango'"
      ]
     },
     "execution_count": 47,
     "metadata": {},
     "output_type": "execute_result"
    }
   ],
   "source": [
    "popped_fruit = fruits.pop(1)\n",
    "popped_fruit"
   ]
  },
  {
   "cell_type": "markdown",
   "id": "58607c99-1ded-49e1-878a-b1e92520df8e",
   "metadata": {},
   "source": [
    "1. index() : Returns the index of the first occurrence of a specified item in the list."
   ]
  },
  {
   "cell_type": "code",
   "execution_count": 49,
   "id": "782e2505-2b6a-4510-997a-e27fbec89c60",
   "metadata": {},
   "outputs": [
    {
     "data": {
      "text/plain": [
       "3"
      ]
     },
     "execution_count": 49,
     "metadata": {},
     "output_type": "execute_result"
    }
   ],
   "source": [
    "index_of_kiwi = fruits.index(\"kiwi\")\n",
    "index_of_kiwi"
   ]
  },
  {
   "cell_type": "markdown",
   "id": "c16b7b3a-9376-4db1-9426-4759bd31c73f",
   "metadata": {},
   "source": [
    "1. count() : Returns the number of occurrences of a specified item in the list."
   ]
  },
  {
   "cell_type": "code",
   "execution_count": 51,
   "id": "fc523088-fd8e-4430-bfde-7e6ccb051845",
   "metadata": {},
   "outputs": [
    {
     "data": {
      "text/plain": [
       "1"
      ]
     },
     "execution_count": 51,
     "metadata": {},
     "output_type": "execute_result"
    }
   ],
   "source": [
    "fruit_count = fruits.count(\"orange\")\n",
    "fruit_count"
   ]
  },
  {
   "cell_type": "markdown",
   "id": "5733ee4c-54f4-4ea9-bfc8-3f38d59342b0",
   "metadata": {},
   "source": [
    "1. sort() : Sorts the list in ascending order by default (can be customized using the"
   ]
  },
  {
   "cell_type": "code",
   "execution_count": 55,
   "id": "19540a4c-be16-436f-8a46-c2eed80626ee",
   "metadata": {},
   "outputs": [
    {
     "data": {
      "text/plain": [
       "['apple', 'blueberry', 'grape', 'kiwi', 'orange', 'raspberry', 'strawberry']"
      ]
     },
     "execution_count": 55,
     "metadata": {},
     "output_type": "execute_result"
    }
   ],
   "source": [
    "fruits.sort()\n",
    "fruits"
   ]
  },
  {
   "cell_type": "markdown",
   "id": "65690fe8-f877-4d2e-8ff9-b2507854bee2",
   "metadata": {},
   "source": [
    "1. reverse() : Reverses the order of the items in the list."
   ]
  },
  {
   "cell_type": "code",
   "execution_count": 57,
   "id": "fff16597-246f-44fe-9f43-e93c78a9cf93",
   "metadata": {},
   "outputs": [
    {
     "data": {
      "text/plain": [
       "['strawberry', 'raspberry', 'orange', 'kiwi', 'grape', 'blueberry', 'apple']"
      ]
     },
     "execution_count": 57,
     "metadata": {},
     "output_type": "execute_result"
    }
   ],
   "source": [
    "fruits.reverse()\n",
    "fruits"
   ]
  },
  {
   "cell_type": "markdown",
   "id": "25400c15-b917-427f-99c4-0ddc2a5a761f",
   "metadata": {},
   "source": [
    "1. copy() : Returns a shallow copy of the list."
   ]
  },
  {
   "cell_type": "code",
   "execution_count": 63,
   "id": "b2991d5d-18f9-49ed-a728-9286d7f4ac72",
   "metadata": {},
   "outputs": [
    {
     "data": {
      "text/plain": [
       "['strawberry', 'raspberry', 'orange', 'kiwi', 'grape', 'blueberry', 'apple']"
      ]
     },
     "execution_count": 63,
     "metadata": {},
     "output_type": "execute_result"
    }
   ],
   "source": [
    "fruits_copy = fruits.copy()\n",
    "fruits_copy"
   ]
  },
  {
   "cell_type": "code",
   "execution_count": 65,
   "id": "491215e5-5fe6-4cff-acac-8dfde59d13b4",
   "metadata": {},
   "outputs": [
    {
     "data": {
      "text/plain": [
       "['strawberry', 'raspberry', 'orange', 'kiwi', 'grape', 'blueberry', 'apple']"
      ]
     },
     "execution_count": 65,
     "metadata": {},
     "output_type": "execute_result"
    }
   ],
   "source": [
    "fruits_copy"
   ]
  },
  {
   "cell_type": "markdown",
   "id": "ec412622-6165-4b69-8d13-24098fc64cc0",
   "metadata": {},
   "source": [
    "1. clear() : Removes all items from the list."
   ]
  },
  {
   "cell_type": "code",
   "execution_count": 67,
   "id": "5a1102ba-0e73-4fe6-a9a9-7fe834bf3491",
   "metadata": {},
   "outputs": [],
   "source": [
    "fruits.clear()"
   ]
  },
  {
   "cell_type": "code",
   "execution_count": 69,
   "id": "2c4a761a-1bba-418a-9884-525d4e965718",
   "metadata": {},
   "outputs": [
    {
     "data": {
      "text/plain": [
       "[]"
      ]
     },
     "execution_count": 69,
     "metadata": {},
     "output_type": "execute_result"
    }
   ],
   "source": [
    "fruits"
   ]
  },
  {
   "cell_type": "markdown",
   "id": "b014aded-1a7e-4880-9b40-b6a0d676ad45",
   "metadata": {},
   "source": []
  },
  {
   "cell_type": "markdown",
   "id": "eb57a170-b73e-4de7-a796-5b41fb9101c1",
   "metadata": {},
   "source": [
    "Tuple"
   ]
  },
  {
   "cell_type": "markdown",
   "id": "2c86d227-5219-4d9d-9b30-2d93fe4c66f0",
   "metadata": {},
   "source": [
    "1. Creating a tuple:"
   ]
  },
  {
   "cell_type": "code",
   "execution_count": 2,
   "id": "db3dfbad-212a-4f33-80be-91d91ae75795",
   "metadata": {},
   "outputs": [
    {
     "data": {
      "text/plain": [
       "('red', 'green', 'blue')"
      ]
     },
     "execution_count": 2,
     "metadata": {},
     "output_type": "execute_result"
    }
   ],
   "source": [
    "colors = (\"red\", \"green\", \"blue\")\n",
    "colors"
   ]
  },
  {
   "cell_type": "markdown",
   "id": "5ac18d9c-39d4-472f-9a00-95c5389cf781",
   "metadata": {},
   "source": [
    "1. count() : Returns the number of occurrences of a specified item in the tuple."
   ]
  },
  {
   "cell_type": "code",
   "execution_count": 4,
   "id": "9d9aa3df-ceef-4a96-9738-024816bd76bb",
   "metadata": {},
   "outputs": [
    {
     "data": {
      "text/plain": [
       "1"
      ]
     },
     "execution_count": 4,
     "metadata": {},
     "output_type": "execute_result"
    }
   ],
   "source": [
    "color_count = colors.count(\"red\")\n",
    "color_count"
   ]
  },
  {
   "cell_type": "markdown",
   "id": "671e6f30-4284-46f7-be55-a17c0c311f21",
   "metadata": {},
   "source": [
    "1. index() : Returns the index of the first occurrence of a specified item in the tuple."
   ]
  },
  {
   "cell_type": "code",
   "execution_count": 6,
   "id": "22f8f31f-3b0f-41a2-be85-070f33a27740",
   "metadata": {
    "scrolled": true
   },
   "outputs": [
    {
     "data": {
      "text/plain": [
       "1"
      ]
     },
     "execution_count": 6,
     "metadata": {},
     "output_type": "execute_result"
    }
   ],
   "source": [
    "index_of_green = colors.index(\"green\")\n",
    "index_of_green"
   ]
  },
  {
   "cell_type": "code",
   "execution_count": 7,
   "id": "ad14b849-2257-4f2e-9804-6c1401bb979f",
   "metadata": {},
   "outputs": [],
   "source": [
    "#Accessing elements:\n",
    "first_color=colors[0]"
   ]
  },
  {
   "cell_type": "code",
   "execution_count": 8,
   "id": "f5b27fa6-92ea-4142-a3a1-ad397ff1e35c",
   "metadata": {},
   "outputs": [
    {
     "data": {
      "text/plain": [
       "'red'"
      ]
     },
     "execution_count": 8,
     "metadata": {},
     "output_type": "execute_result"
    }
   ],
   "source": [
    "first_color"
   ]
  },
  {
   "cell_type": "markdown",
   "id": "add8cbd4-88e5-45dd-a82e-b07751b590c1",
   "metadata": {},
   "source": [
    "Iterating over elements:\n",
    "\n",
    "for color in colors:"
   ]
  },
  {
   "cell_type": "code",
   "execution_count": 10,
   "id": "cbfc8294-b2a1-4f7b-acb0-546470d221e4",
   "metadata": {},
   "outputs": [
    {
     "name": "stdout",
     "output_type": "stream",
     "text": [
      "('red', 'green', 'blue')\n"
     ]
    }
   ],
   "source": [
    "print(colors)"
   ]
  },
  {
   "cell_type": "markdown",
   "id": "34ff497e-8c7f-40af-b11e-239d36bff3ed",
   "metadata": {},
   "source": [
    "Slicing:"
   ]
  },
  {
   "cell_type": "code",
   "execution_count": 12,
   "id": "4622b280-339c-42b5-a238-907a2914aac2",
   "metadata": {},
   "outputs": [
    {
     "data": {
      "text/plain": [
       "('red', 'green')"
      ]
     },
     "execution_count": 12,
     "metadata": {},
     "output_type": "execute_result"
    }
   ],
   "source": [
    "rgb_colors = colors[0:2]\n",
    "rgb_colors"
   ]
  },
  {
   "cell_type": "code",
   "execution_count": null,
   "id": "9642508c-1adc-4e9e-9af0-534a2a2df5f1",
   "metadata": {},
   "outputs": [],
   "source": []
  },
  {
   "cell_type": "code",
   "execution_count": null,
   "id": "57ce2b8f-6b37-4026-8851-35b4a812acf8",
   "metadata": {},
   "outputs": [],
   "source": []
  },
  {
   "cell_type": "markdown",
   "id": "82d819ad-6124-4fd7-aa6c-b9f95aaeae40",
   "metadata": {},
   "source": [
    "Adding values to a tuple using a list:"
   ]
  },
  {
   "cell_type": "code",
   "execution_count": 14,
   "id": "ec4c984f-98a0-4c18-a743-778645a88bba",
   "metadata": {},
   "outputs": [],
   "source": [
    "colors_list = list(colors) # Convert the tuple to a list"
   ]
  },
  {
   "cell_type": "code",
   "execution_count": 15,
   "id": "5927d7d3-230f-4512-a764-ca8c6c614db2",
   "metadata": {},
   "outputs": [],
   "source": [
    "colors_list.append(\"yellow\") # Add a new color to the list"
   ]
  },
  {
   "cell_type": "code",
   "execution_count": 16,
   "id": "cc915775-da4d-42f5-abb9-0c8a4e391dcf",
   "metadata": {},
   "outputs": [],
   "source": [
    "colors_list.append(\"purple\")"
   ]
  },
  {
   "cell_type": "code",
   "execution_count": 31,
   "id": "0342aedf-a2fe-4249-8a4f-4924a16254cc",
   "metadata": {},
   "outputs": [
    {
     "data": {
      "text/plain": [
       "('red', 'green', 'blue', 'yellow', 'purple')"
      ]
     },
     "execution_count": 31,
     "metadata": {},
     "output_type": "execute_result"
    }
   ],
   "source": [
    "colors = tuple(colors_list) # Convert the list back to a tuple\n",
    "colors"
   ]
  },
  {
   "cell_type": "code",
   "execution_count": null,
   "id": "999e1cdc-0757-4438-a7dc-4c7f471d6e62",
   "metadata": {},
   "outputs": [],
   "source": []
  },
  {
   "cell_type": "code",
   "execution_count": null,
   "id": "b1898ff6-6634-43e3-8c70-65407bb3ee5f",
   "metadata": {},
   "outputs": [],
   "source": []
  },
  {
   "cell_type": "markdown",
   "id": "3b833b09-23b8-43e8-93b4-eb16a75c9fa1",
   "metadata": {},
   "source": [
    "Set"
   ]
  },
  {
   "cell_type": "code",
   "execution_count": null,
   "id": "f0f766ac-2294-4b63-8f70-701d63d1ab79",
   "metadata": {},
   "outputs": [],
   "source": []
  }
 ],
 "metadata": {
  "kernelspec": {
   "display_name": "Python 3 (ipykernel)",
   "language": "python",
   "name": "python3"
  },
  "language_info": {
   "codemirror_mode": {
    "name": "ipython",
    "version": 3
   },
   "file_extension": ".py",
   "mimetype": "text/x-python",
   "name": "python",
   "nbconvert_exporter": "python",
   "pygments_lexer": "ipython3",
   "version": "3.12.4"
  }
 },
 "nbformat": 4,
 "nbformat_minor": 5
}
