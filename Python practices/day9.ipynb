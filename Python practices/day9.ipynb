{
 "cells": [
  {
   "cell_type": "code",
   "execution_count": 4,
   "id": "352beebe-9fb1-408e-a736-2e645d6764fb",
   "metadata": {},
   "outputs": [
    {
     "name": "stdout",
     "output_type": "stream",
     "text": [
      "10000\n",
      "12345\n"
     ]
    },
    {
     "ename": "TypeError",
     "evalue": "Account.credit() missing 1 required positional argument: 'amount'",
     "output_type": "error",
     "traceback": [
      "\u001b[0;31m---------------------------------------------------------------------------\u001b[0m",
      "\u001b[0;31mTypeError\u001b[0m                                 Traceback (most recent call last)",
      "Cell \u001b[0;32mIn[4], line 22\u001b[0m\n\u001b[1;32m     20\u001b[0m \u001b[38;5;28mprint\u001b[39m(acc1\u001b[38;5;241m.\u001b[39mbalance)\n\u001b[1;32m     21\u001b[0m \u001b[38;5;28mprint\u001b[39m(acc1\u001b[38;5;241m.\u001b[39maccount_no)\n\u001b[0;32m---> 22\u001b[0m \u001b[38;5;28mprint\u001b[39m(acc1\u001b[38;5;241m.\u001b[39mcredit())\n",
      "\u001b[0;31mTypeError\u001b[0m: Account.credit() missing 1 required positional argument: 'amount'"
     ]
    }
   ],
   "source": [
    "class Account:\n",
    "    def __init__(self, bal, acc):\n",
    "        self.balance = bal\n",
    "        self.account_no = acc\n",
    "\n",
    "    def debit(self, amount):\n",
    "        self.balance -= amount\n",
    "        print(\"Rs.\", amount, \"was debited\")\n",
    "        print(\"Total balance =\", self.get_balance())\n",
    "\n",
    "    def credit(self, amount):\n",
    "        self.balance += amount\n",
    "        print(\"Rs.\", amount, \"was credited\")\n",
    "        print(\"Total balance =\", self.get_balance())\n",
    "\n",
    "    def balance(self):\n",
    "        return self.balance\n",
    "\n",
    "acc1 = Account(10000, 12345)\n",
    "print(acc1.balance)\n",
    "print(acc1.account_no)\n",
    "print(acc1.credit())"
   ]
  },
  {
   "cell_type": "code",
   "execution_count": 20,
   "id": "60d48bff-57eb-4130-bdde-e8190f0fb492",
   "metadata": {},
   "outputs": [
    {
     "ename": "TypeError",
     "evalue": "car.start() takes 0 positional arguments but 1 was given",
     "output_type": "error",
     "traceback": [
      "\u001b[0;31m---------------------------------------------------------------------------\u001b[0m",
      "\u001b[0;31mTypeError\u001b[0m                                 Traceback (most recent call last)",
      "Cell \u001b[0;32mIn[20], line 13\u001b[0m\n\u001b[1;32m      9\u001b[0m         \u001b[38;5;28mprint\u001b[39m(\u001b[38;5;124m\"\u001b[39m\u001b[38;5;124mcar started..\u001b[39m\u001b[38;5;124m\"\u001b[39m)\n\u001b[1;32m     12\u001b[0m car1\u001b[38;5;241m=\u001b[39m car()\n\u001b[0;32m---> 13\u001b[0m car1\u001b[38;5;241m.\u001b[39mstart()\n",
      "\u001b[0;31mTypeError\u001b[0m: car.start() takes 0 positional arguments but 1 was given"
     ]
    }
   ],
   "source": [
    "class car:\n",
    "    def __init__(self):\n",
    "        self.acc=False\n",
    "        self.clutch = False\n",
    "        self.brake=False\n",
    "    def start():\n",
    "        self.acc = True\n",
    "        self.clutch = True\n",
    "        print(\"car started..\")\n",
    "\n",
    "\n",
    "car1= car()\n",
    "car1.start()"
   ]
  },
  {
   "cell_type": "code",
   "execution_count": 14,
   "id": "1a9e66a7-6435-48d2-a40b-28159ef7e5de",
   "metadata": {},
   "outputs": [
    {
     "name": "stdout",
     "output_type": "stream",
     "text": [
      "Fortuner\n",
      "car started..\n",
      "None\n",
      "car stopped.\n",
      "None\n"
     ]
    }
   ],
   "source": [
    "class Car:\n",
    "    color = \"black\"\n",
    "\n",
    "    @staticmethod\n",
    "    def start():\n",
    "        print(\"car started..\")\n",
    "\n",
    "    @staticmethod\n",
    "    def stop():\n",
    "        print(\"car stopped.\")\n",
    "\n",
    "class Toyotacar(Car):\n",
    "    def __init__(self, name):\n",
    "        self.name = name\n",
    "\n",
    "car1 = Toyotacar(\"Fortuner\")\n",
    "car2 = Toyotacar(\"Camry\")\n",
    "print(car1.name)\n",
    "\n",
    "print(car1.start())\n",
    "print(car2.stop())"
   ]
  },
  {
   "cell_type": "code",
   "execution_count": null,
   "id": "4f2170ea-6128-43d6-95e2-b53c6ed883ac",
   "metadata": {},
   "outputs": [],
   "source": [
    "class Car:\n",
    "    color = \"black\"\n",
    "\n",
    "    @staticmethod\n",
    "    def start():\n",
    "        print(\"car started..\")\n",
    "\n",
    "    @staticmethod\n",
    "    def stop():\n",
    "        print(\"car stopped.\")\n",
    "\n",
    "class Toyotacar(Car):\n",
    "    def __init__(self, name):\n",
    "        self.name = name\n",
    "\n",
    "class Fortuner(Toyotacar):\n",
    "    def __init__(self, brand, type):\n",
    "        super().__init__(brand)\n",
    "        self.type = type\n",
    "\n",
    "\n",
    "\n",
    "\n",
    "car1 = Fortuner(To)"
   ]
  }
 ],
 "metadata": {
  "kernelspec": {
   "display_name": "Python 3 (ipykernel)",
   "language": "python",
   "name": "python3"
  },
  "language_info": {
   "codemirror_mode": {
    "name": "ipython",
    "version": 3
   },
   "file_extension": ".py",
   "mimetype": "text/x-python",
   "name": "python",
   "nbconvert_exporter": "python",
   "pygments_lexer": "ipython3",
   "version": "3.12.4"
  }
 },
 "nbformat": 4,
 "nbformat_minor": 5
}
