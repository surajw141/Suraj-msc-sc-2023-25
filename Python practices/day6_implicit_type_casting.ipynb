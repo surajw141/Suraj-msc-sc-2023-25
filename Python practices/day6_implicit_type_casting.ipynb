{
 "cells": [
  {
   "cell_type": "markdown",
   "id": "01fde8ad-e07c-4234-b05d-c02dbb9cc60a",
   "metadata": {},
   "source": [
    "Implicit type casting"
   ]
  },
  {
   "cell_type": "code",
   "execution_count": null,
   "id": "139c5688-5af6-4e2c-bdd4-2911febd8f55",
   "metadata": {},
   "outputs": [],
   "source": [
    "num_int = 123\n",
    "num_flo = 1.23\n",
    "\n",
    "num_new = num_int + num_flo\n",
    "\n"
   ]
  },
  {
   "cell_type": "code",
   "execution_count": 1,
   "id": "27ea519f-1549-4ebc-b639-35611a03aab0",
   "metadata": {},
   "outputs": [
    {
     "name": "stdout",
     "output_type": "stream",
     "text": [
      "13.5\n",
      "<class 'float'>\n",
      "<class 'int'>\n"
     ]
    }
   ],
   "source": [
    "#Implicit type casting\n",
    "a = 10\n",
    "b = 3.5\n",
    "c = a + b\n",
    "\n",
    "print(c)\n",
    "print(type(c))\n",
    "#<class 'float'>\n",
    "print(type(a))\n"
   ]
  },
  {
   "cell_type": "code",
   "execution_count": 7,
   "id": "906a77a7-3a53-4de8-b5fb-79f3f6e7169e",
   "metadata": {},
   "outputs": [
    {
     "data": {
      "text/plain": [
       "3"
      ]
     },
     "execution_count": 7,
     "metadata": {},
     "output_type": "execute_result"
    }
   ],
   "source": [
    "result = True + 2\n",
    "result"
   ]
  },
  {
   "cell_type": "code",
   "execution_count": 11,
   "id": "7c2bffd0-2521-4d49-8405-faeef2ec375a",
   "metadata": {},
   "outputs": [
    {
     "name": "stdout",
     "output_type": "stream",
     "text": [
      "2020\n",
      "20\n",
      "<class 'str'>\n"
     ]
    }
   ],
   "source": [
    "#integer to String\n",
    "a = 20\n",
    "b = str(a)\n",
    "c = \"20\"\n",
    "print(b+c)\n",
    "print(b)\n",
    "print(type(b))"
   ]
  },
  {
   "cell_type": "code",
   "execution_count": 15,
   "id": "d5d4d32a-08ee-482c-9e1b-cd7c5efc79be",
   "metadata": {},
   "outputs": [],
   "source": [
    "#str to int\n",
    "a = \"123\"\n",
    "b = int(a)\n",
    "c = 34\n",
    "print()\n"
   ]
  },
  {
   "cell_type": "code",
   "execution_count": 21,
   "id": "4f235a7a-f287-4570-b561-02514c5b1270",
   "metadata": {},
   "outputs": [
    {
     "name": "stdout",
     "output_type": "stream",
     "text": [
      "12\n"
     ]
    },
    {
     "data": {
      "text/plain": [
       "int"
      ]
     },
     "execution_count": 21,
     "metadata": {},
     "output_type": "execute_result"
    }
   ],
   "source": [
    "#float to integer\n",
    "a = 12.34\n",
    "b = int(a)\n",
    "\n",
    "print(b)\n",
    "type(b)"
   ]
  },
  {
   "cell_type": "code",
   "execution_count": 31,
   "id": "838d8d65-51cb-4f94-a1c1-e9cd8b965a8c",
   "metadata": {},
   "outputs": [
    {
     "name": "stdout",
     "output_type": "stream",
     "text": [
      "15.34\n",
      "3.0\n",
      "<class 'float'>\n"
     ]
    }
   ],
   "source": [
    "#str to flo\n",
    "a = \"12.34\"\n",
    "h = \"3\"\n",
    "b = float(a)\n",
    "n = float(h)\n",
    "print(n+b)\n",
    "print(n)\n",
    "\n",
    "print(type(n))"
   ]
  },
  {
   "cell_type": "code",
   "execution_count": 37,
   "id": "e60927cc-2311-4104-977e-916d9327abc4",
   "metadata": {},
   "outputs": [
    {
     "name": "stdout",
     "output_type": "stream",
     "text": [
      "(1, 2, 3)\n",
      "<class 'tuple'>\n"
     ]
    }
   ],
   "source": [
    "#list to tuple\n",
    "a = [1,2,3]\n",
    "b = tuple(a)\n",
    "\n",
    "print(b)\n",
    "print(type(b))"
   ]
  },
  {
   "cell_type": "code",
   "execution_count": 61,
   "id": "08224724-8e7e-4d8c-bbb3-686cf8171299",
   "metadata": {},
   "outputs": [
    {
     "name": "stdout",
     "output_type": "stream",
     "text": [
      "[1, 2, 3]\n",
      "<class 'list'>\n"
     ]
    }
   ],
   "source": [
    "#tuple to list\n",
    "a = (1, 2, 3)\n",
    "b = list(a)\n",
    "\n",
    "print(b)\n",
    "print(type(b))"
   ]
  },
  {
   "cell_type": "code",
   "execution_count": 63,
   "id": "ba5e7b4a-4938-4658-94a7-a9683e8e3d9c",
   "metadata": {},
   "outputs": [],
   "source": [
    "b.append(\"ready\")"
   ]
  },
  {
   "cell_type": "code",
   "execution_count": 65,
   "id": "2c83bab5-f73e-4e5b-bfe6-a0404f9539bf",
   "metadata": {},
   "outputs": [],
   "source": [
    "b.append(\"stranger\")"
   ]
  },
  {
   "cell_type": "code",
   "execution_count": 67,
   "id": "34385608-8558-40f9-9a3d-39cf29a2005b",
   "metadata": {},
   "outputs": [
    {
     "data": {
      "text/plain": [
       "[1, 2, 3, 'ready', 'stranger']"
      ]
     },
     "execution_count": 67,
     "metadata": {},
     "output_type": "execute_result"
    }
   ],
   "source": [
    "b"
   ]
  },
  {
   "cell_type": "code",
   "execution_count": 73,
   "id": "2c451dc8-b70e-4b5a-a388-b4c4ef4521da",
   "metadata": {},
   "outputs": [
    {
     "ename": "ValueError",
     "evalue": "invalid literal for int() with base 10: 'hello'",
     "output_type": "error",
     "traceback": [
      "\u001b[0;31m---------------------------------------------------------------------------\u001b[0m",
      "\u001b[0;31mValueError\u001b[0m                                Traceback (most recent call last)",
      "Cell \u001b[0;32mIn[73], line 2\u001b[0m\n\u001b[1;32m      1\u001b[0m a \u001b[38;5;241m=\u001b[39m \u001b[38;5;124m\"\u001b[39m\u001b[38;5;124mhello\u001b[39m\u001b[38;5;124m\"\u001b[39m\n\u001b[0;32m----> 2\u001b[0m b \u001b[38;5;241m=\u001b[39m \u001b[38;5;28mint\u001b[39m(a)\n\u001b[1;32m      3\u001b[0m \u001b[38;5;28mprint\u001b[39m(b)\n",
      "\u001b[0;31mValueError\u001b[0m: invalid literal for int() with base 10: 'hello'"
     ]
    }
   ],
   "source": [
    "a = \"hello\"\n",
    "b = int(a)\n",
    "print(b)"
   ]
  },
  {
   "cell_type": "code",
   "execution_count": 77,
   "id": "32135487-b134-4186-a6c8-3742725d67db",
   "metadata": {},
   "outputs": [
    {
     "name": "stdout",
     "output_type": "stream",
     "text": [
      "(10.8+0j)\n"
     ]
    }
   ],
   "source": [
    "int_num = 10.8\n",
    "comp_num = complex(int_num)\n",
    "print(comp_num)"
   ]
  },
  {
   "cell_type": "code",
   "execution_count": 87,
   "id": "8240082c-9133-421d-b99f-573e790f6beb",
   "metadata": {},
   "outputs": [
    {
     "data": {
      "text/plain": [
       "('p', 'r', 'a', 'g', 'y', 'a', 't', 'm', 'i', 'k', 'a')"
      ]
     },
     "execution_count": 87,
     "metadata": {},
     "output_type": "execute_result"
    }
   ],
   "source": [
    "str=\"pragyatmika\"\n",
    "tuple_data = tuple(str)\n",
    "tuple_data"
   ]
  },
  {
   "cell_type": "code",
   "execution_count": 91,
   "id": "6c08f2f7-8c72-42be-94b6-5fa37387b0b0",
   "metadata": {},
   "outputs": [
    {
     "name": "stdout",
     "output_type": "stream",
     "text": [
      "[1, 2]\n"
     ]
    },
    {
     "data": {
      "text/plain": [
       "list"
      ]
     },
     "execution_count": 91,
     "metadata": {},
     "output_type": "execute_result"
    }
   ],
   "source": [
    "dic={1:\"hi\", 2:\"pragyatmika\"}\n",
    "list_data=list(dic)\n",
    "print(list_data)\n",
    "type(list_data)"
   ]
  }
 ],
 "metadata": {
  "kernelspec": {
   "display_name": "Python 3 (ipykernel)",
   "language": "python",
   "name": "python3"
  },
  "language_info": {
   "codemirror_mode": {
    "name": "ipython",
    "version": 3
   },
   "file_extension": ".py",
   "mimetype": "text/x-python",
   "name": "python",
   "nbconvert_exporter": "python",
   "pygments_lexer": "ipython3",
   "version": "3.12.4"
  }
 },
 "nbformat": 4,
 "nbformat_minor": 5
}
