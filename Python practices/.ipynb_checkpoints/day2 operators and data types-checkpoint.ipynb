{
 "cells": [
  {
   "cell_type": "code",
   "execution_count": 19,
   "id": "e6e257a9",
   "metadata": {},
   "outputs": [
    {
     "data": {
      "text/plain": [
       "int"
      ]
     },
     "execution_count": 19,
     "metadata": {},
     "output_type": "execute_result"
    }
   ],
   "source": [
    "a = 1\n",
    "type(a)"
   ]
  },
  {
   "cell_type": "code",
   "execution_count": 20,
   "id": "fbe11c88",
   "metadata": {},
   "outputs": [
    {
     "data": {
      "text/plain": [
       "str"
      ]
     },
     "execution_count": 20,
     "metadata": {},
     "output_type": "execute_result"
    }
   ],
   "source": [
    "b = 'f'\n",
    "type(b)"
   ]
  },
  {
   "cell_type": "code",
   "execution_count": 21,
   "id": "9fb914b1",
   "metadata": {},
   "outputs": [
    {
     "data": {
      "text/plain": [
       "float"
      ]
     },
     "execution_count": 21,
     "metadata": {},
     "output_type": "execute_result"
    }
   ],
   "source": [
    "c = 30.009897\n",
    "type(c)"
   ]
  },
  {
   "cell_type": "code",
   "execution_count": 22,
   "id": "ede1d325-3376-48c9-9db1-804eb92c82dc",
   "metadata": {
    "editable": true,
    "slideshow": {
     "slide_type": ""
    },
    "tags": []
   },
   "outputs": [
    {
     "name": "stdout",
     "output_type": "stream",
     "text": [
      "Hello world\n"
     ]
    }
   ],
   "source": [
    "print(\"Hello world\")"
   ]
  },
  {
   "cell_type": "code",
   "execution_count": 23,
   "id": "abfa3d13",
   "metadata": {},
   "outputs": [
    {
     "name": "stdout",
     "output_type": "stream",
     "text": [
      "1 2\n"
     ]
    }
   ],
   "source": [
    "a = 1\n",
    "b = 2\n",
    "print(a,b)"
   ]
  },
  {
   "cell_type": "code",
   "execution_count": 24,
   "id": "7d797d78",
   "metadata": {},
   "outputs": [
    {
     "name": "stdout",
     "output_type": "stream",
     "text": [
      "Hello\n"
     ]
    }
   ],
   "source": [
    "variable_one = \"Hello\"\n",
    "print(variable_one)"
   ]
  },
  {
   "cell_type": "code",
   "execution_count": 25,
   "id": "d2e2573b",
   "metadata": {},
   "outputs": [
    {
     "name": "stdout",
     "output_type": "stream",
     "text": [
      "Addition of two numbers is:  27\n"
     ]
    }
   ],
   "source": [
    "v = int(input(\"Enter your num1: \"))\n",
    "w = int(input(\"Enter your num2: \"))\n",
    "print(\"Addition of two numbers is: \", v+w)"
   ]
  },
  {
   "cell_type": "markdown",
   "id": "8943e980",
   "metadata": {},
   "source": [
    "Data types"
   ]
  },
  {
   "cell_type": "markdown",
   "id": "b04c1899",
   "metadata": {},
   "source": []
  },
  {
   "cell_type": "code",
   "execution_count": null,
   "id": "b634e864-0181-46e4-a0df-5cad48a2a139",
   "metadata": {
    "tags": []
   },
   "outputs": [],
   "source": [
    "a = 90\n",
    "print(a)"
   ]
  },
  {
   "cell_type": "code",
   "execution_count": null,
   "id": "ea6d7610-34d0-4f2a-8509-dbdc4db63b41",
   "metadata": {
    "editable": true,
    "slideshow": {
     "slide_type": ""
    },
    "tags": []
   },
   "outputs": [],
   "source": [
    "a = 1\n",
    "type(a)"
   ]
  },
  {
   "cell_type": "code",
   "execution_count": null,
   "id": "44262f3e-00a6-40e6-833a-dbbb2a75f37c",
   "metadata": {},
   "outputs": [],
   "source": [
    "b = 'f'\n",
    "type(b)"
   ]
  },
  {
   "cell_type": "code",
   "execution_count": null,
   "id": "9e0a730b-3174-4f16-873d-a63d988765f4",
   "metadata": {},
   "outputs": [],
   "source": [
    "c = 30.10000\n",
    "type(c)"
   ]
  },
  {
   "cell_type": "code",
   "execution_count": null,
   "id": "bd239195-a971-4abf-a4b1-aee675173e47",
   "metadata": {},
   "outputs": [],
   "source": [
    "print(\"Hello world\")"
   ]
  },
  {
   "cell_type": "code",
   "execution_count": null,
   "id": "8766d91f-8d59-48a4-ba03-b340d274b5b7",
   "metadata": {},
   "outputs": [],
   "source": [
    "a = 1\n",
    "b = 2\n",
    "print(variable,b)"
   ]
  },
  {
   "cell_type": "code",
   "execution_count": null,
   "id": "51ad7d4f-9977-4bd4-a94f-6a19107a91f9",
   "metadata": {},
   "outputs": [],
   "source": [
    "variable_one = \"hello\"\n",
    "print(variable_one)"
   ]
  },
  {
   "cell_type": "code",
   "execution_count": null,
   "id": "9425566e-49f5-491b-b0e4-0fae52ca6d00",
   "metadata": {},
   "outputs": [],
   "source": [
    "v = input()"
   ]
  },
  {
   "cell_type": "code",
   "execution_count": null,
   "id": "9fce7b81-563b-4f38-b252-a9314c594988",
   "metadata": {
    "scrolled": true
   },
   "outputs": [],
   "source": [
    "a = int(input(\"Enter your num: \"))\n",
    "b = int(input(\"Enter your num: \"))\n",
    "print(a + b)"
   ]
  },
  {
   "cell_type": "markdown",
   "id": "ffb6fbd6-1744-47cd-aeaf-2cf081f9cc07",
   "metadata": {
    "editable": true,
    "slideshow": {
     "slide_type": ""
    },
    "tags": []
   },
   "source": [
    "name = \"python\"\n",
    "num = 1531\n",
    "type(name)"
   ]
  },
  {
   "cell_type": "code",
   "execution_count": null,
   "id": "073cb50b-b02e-4a86-a6ec-0a9dee24e09a",
   "metadata": {},
   "outputs": [],
   "source": [
    "print(\"3 == 3\", 3 == 4)"
   ]
  },
  {
   "cell_type": "code",
   "execution_count": null,
   "id": "c13c011d-ccab-4233-a14d-6dbc0278ce94",
   "metadata": {},
   "outputs": [],
   "source": [
    "print(\"3 != 3:\", 3 != 3)"
   ]
  },
  {
   "cell_type": "code",
   "execution_count": null,
   "id": "ddfffdff-2daf-48ee-903b-08ee525f0dff",
   "metadata": {},
   "outputs": [],
   "source": [
    "print(\"True and False:\", True and False)"
   ]
  },
  {
   "cell_type": "code",
   "execution_count": null,
   "id": "496e3d7c-246e-4954-83f3-59c9e142585c",
   "metadata": {},
   "outputs": [],
   "source": [
    "print(\"True or False:\", True or False)"
   ]
  },
  {
   "cell_type": "code",
   "execution_count": null,
   "id": "5f4e3a62-76d8-4c83-8fab-aaa78e509525",
   "metadata": {},
   "outputs": [],
   "source": [
    "print(\"not True:\", not True)"
   ]
  }
 ],
 "metadata": {
  "kernelspec": {
   "display_name": "Python 3 (ipykernel)",
   "language": "python",
   "name": "python3"
  },
  "language_info": {
   "codemirror_mode": {
    "name": "ipython",
    "version": 3
   },
   "file_extension": ".py",
   "mimetype": "text/x-python",
   "name": "python",
   "nbconvert_exporter": "python",
   "pygments_lexer": "ipython3",
   "version": "3.12.4"
  }
 },
 "nbformat": 4,
 "nbformat_minor": 5
}
