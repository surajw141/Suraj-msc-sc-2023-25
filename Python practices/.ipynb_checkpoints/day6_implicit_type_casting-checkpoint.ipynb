{
 "cells": [
  {
   "cell_type": "markdown",
   "id": "01fde8ad-e07c-4234-b05d-c02dbb9cc60a",
   "metadata": {},
   "source": [
    "Implicit type casting"
   ]
  },
  {
   "cell_type": "code",
   "execution_count": null,
   "id": "139c5688-5af6-4e2c-bdd4-2911febd8f55",
   "metadata": {},
   "outputs": [],
   "source": [
    "num_int = 123\n",
    "num_flo = 1.23\n",
    "\n",
    "num_new = num_int + num_flo\n",
    "\n"
   ]
  },
  {
   "cell_type": "code",
   "execution_count": 1,
   "id": "27ea519f-1549-4ebc-b639-35611a03aab0",
   "metadata": {},
   "outputs": [
    {
     "name": "stdout",
     "output_type": "stream",
     "text": [
      "13.5\n",
      "<class 'float'>\n",
      "<class 'int'>\n"
     ]
    }
   ],
   "source": [
    "#Implicit type casting\n",
    "a = 10\n",
    "b = 3.5\n",
    "c = a + b\n",
    "\n",
    "print(c)\n",
    "print(type(c))\n",
    "#<class 'float'>\n",
    "print(type(a))\n"
   ]
  },
  {
   "cell_type": "code",
   "execution_count": 7,
   "id": "906a77a7-3a53-4de8-b5fb-79f3f6e7169e",
   "metadata": {},
   "outputs": [
    {
     "data": {
      "text/plain": [
       "3"
      ]
     },
     "execution_count": 7,
     "metadata": {},
     "output_type": "execute_result"
    }
   ],
   "source": [
    "result = True + 2\n",
    "result"
   ]
  },
  {
   "cell_type": "code",
   "execution_count": 11,
   "id": "7c2bffd0-2521-4d49-8405-faeef2ec375a",
   "metadata": {},
   "outputs": [
    {
     "name": "stdout",
     "output_type": "stream",
     "text": [
      "2020\n",
      "20\n",
      "<class 'str'>\n"
     ]
    }
   ],
   "source": [
    "#integer to String\n",
    "a = 20\n",
    "b = str(a)\n",
    "c = \"20\"\n",
    "print(b+c)\n",
    "print(b)\n",
    "print(type(b))"
   ]
  },
  {
   "cell_type": "code",
   "execution_count": 15,
   "id": "d5d4d32a-08ee-482c-9e1b-cd7c5efc79be",
   "metadata": {},
   "outputs": [],
   "source": [
    "#str to int\n",
    "a = \"123\"\n",
    "b = int(a)\n",
    "c = 34\n",
    "print()\n"
   ]
  },
  {
   "cell_type": "code",
   "execution_count": 21,
   "id": "4f235a7a-f287-4570-b561-02514c5b1270",
   "metadata": {},
   "outputs": [
    {
     "name": "stdout",
     "output_type": "stream",
     "text": [
      "12\n"
     ]
    },
    {
     "data": {
      "text/plain": [
       "int"
      ]
     },
     "execution_count": 21,
     "metadata": {},
     "output_type": "execute_result"
    }
   ],
   "source": [
    "#float to integer\n",
    "a = 12.34\n",
    "b = int(a)\n",
    "\n",
    "print(b)\n",
    "type(b)"
   ]
  },
  {
   "cell_type": "code",
   "execution_count": 31,
   "id": "838d8d65-51cb-4f94-a1c1-e9cd8b965a8c",
   "metadata": {},
   "outputs": [
    {
     "name": "stdout",
     "output_type": "stream",
     "text": [
      "15.34\n",
      "3.0\n",
      "<class 'float'>\n"
     ]
    }
   ],
   "source": [
    "#str to flo\n",
    "a = \"12.34\"\n",
    "h = \"3\"\n",
    "b = float(a)\n",
    "n = float(h)\n",
    "print(n+b)\n",
    "print(n)\n",
    "\n",
    "print(type(n))"
   ]
  },
  {
   "cell_type": "code",
   "execution_count": 35,
   "id": "e60927cc-2311-4104-977e-916d9327abc4",
   "metadata": {},
   "outputs": [
    {
     "name": "stdout",
     "output_type": "stream",
     "text": [
      "(1, 2, 3)\n",
      "<class 'tuple'>\n"
     ]
    }
   ],
   "source": [
    "#float to string\n",
    "a = [1,2,3]\n",
    "b = tuple(a)\n",
    "\n",
    "print(b)\n",
    "print(type(b))"
   ]
  }
 ],
 "metadata": {
  "kernelspec": {
   "display_name": "Python 3 (ipykernel)",
   "language": "python",
   "name": "python3"
  },
  "language_info": {
   "codemirror_mode": {
    "name": "ipython",
    "version": 3
   },
   "file_extension": ".py",
   "mimetype": "text/x-python",
   "name": "python",
   "nbconvert_exporter": "python",
   "pygments_lexer": "ipython3",
   "version": "3.12.4"
  }
 },
 "nbformat": 4,
 "nbformat_minor": 5
}
