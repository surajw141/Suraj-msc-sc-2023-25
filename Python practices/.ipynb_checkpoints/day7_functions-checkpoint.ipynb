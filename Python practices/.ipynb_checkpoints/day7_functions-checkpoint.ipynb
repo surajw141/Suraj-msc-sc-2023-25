{
 "cells": [
  {
   "cell_type": "markdown",
   "id": "d1cfdfda-b86a-422a-9fc8-3cc525662347",
   "metadata": {},
   "source": [
    "Functions in python"
   ]
  },
  {
   "cell_type": "code",
   "execution_count": 1,
   "id": "0afd748f-d347-4afd-80b4-4227ffaad3f8",
   "metadata": {},
   "outputs": [
    {
     "data": {
      "text/plain": [
       "30"
      ]
     },
     "execution_count": 1,
     "metadata": {},
     "output_type": "execute_result"
    }
   ],
   "source": [
    "def add_function(num1,num2):\n",
    "    return num1 + num2\n",
    "add_function(20,10)"
   ]
  },
  {
   "cell_type": "code",
   "execution_count": 3,
   "id": "e00a6dd5-c69d-4df9-b312-601a0e24641c",
   "metadata": {},
   "outputs": [
    {
     "data": {
      "text/plain": [
       "70"
      ]
     },
     "execution_count": 3,
     "metadata": {},
     "output_type": "execute_result"
    }
   ],
   "source": [
    "add_function(30,40)"
   ]
  },
  {
   "cell_type": "code",
   "execution_count": 5,
   "id": "2b909bb3-f735-48ad-9a8d-412d46cae00d",
   "metadata": {},
   "outputs": [
    {
     "data": {
      "text/plain": [
       "4"
      ]
     },
     "execution_count": 5,
     "metadata": {},
     "output_type": "execute_result"
    }
   ],
   "source": [
    "result = add_function(1,3)\n",
    "result"
   ]
  },
  {
   "cell_type": "code",
   "execution_count": null,
   "id": "339de203-03a2-46ec-98ca-bf205721d1cf",
   "metadata": {},
   "outputs": [],
   "source": [
    "def name_function():\n",
    "    \"\"\"\n",
    "    will print hello\n",
    "    \"\"\""
   ]
  },
  {
   "cell_type": "code",
   "execution_count": 37,
   "id": "44c96649-01c3-45ff-8daf-c10e5bcaa976",
   "metadata": {},
   "outputs": [
    {
     "name": "stdout",
     "output_type": "stream",
     "text": [
      "hello raj\n",
      "hello kk_23\n"
     ]
    }
   ],
   "source": [
    "def say_hello(name):\n",
    "    print('hello',name)\n",
    "say_hello('raj')\n",
    "say_hello('kk_23')"
   ]
  },
  {
   "cell_type": "code",
   "execution_count": 29,
   "id": "a9dba8c4-3970-40fc-a68f-b4a1e331622c",
   "metadata": {},
   "outputs": [],
   "source": [
    "def say_hello(name='Name'):\n",
    "    return 'hello ' + name"
   ]
  },
  {
   "cell_type": "code",
   "execution_count": 39,
   "id": "93b0db7d-07a6-4d8d-bf61-4d5a925a06f4",
   "metadata": {},
   "outputs": [
    {
     "name": "stdout",
     "output_type": "stream",
     "text": [
      "hello raj\n"
     ]
    }
   ],
   "source": [
    "say_hello('raj')"
   ]
  },
  {
   "cell_type": "code",
   "execution_count": null,
   "id": "84a7d532-019f-4921-827e-d13793462ba1",
   "metadata": {},
   "outputs": [],
   "source": []
  },
  {
   "cell_type": "code",
   "execution_count": 41,
   "id": "41d96304-b058-48f4-ab03-7f73439229ab",
   "metadata": {},
   "outputs": [],
   "source": [
    "def calc(n1,n2):\n",
    "    print(n1 + n2)\n",
    "    print(n1 - n2)\n",
    "    print(n1 * n2)\n",
    "    print(n1 / n2)"
   ]
  },
  {
   "cell_type": "code",
   "execution_count": 43,
   "id": "d0a3606e-dc84-45ae-ae91-6e2ca3619e25",
   "metadata": {},
   "outputs": [
    {
     "name": "stdout",
     "output_type": "stream",
     "text": [
      "10\n",
      "6\n",
      "16\n",
      "4.0\n"
     ]
    }
   ],
   "source": [
    "calc(8,2)"
   ]
  },
  {
   "cell_type": "code",
   "execution_count": 55,
   "id": "a6ab36f4-e5cd-4f4f-a65e-1280af13a8c3",
   "metadata": {},
   "outputs": [],
   "source": [
    "def dog_check(mystring):\n",
    "    if 'DOG' in mystring.upper():\n",
    "        return True\n",
    "    else:\n",
    "        return False"
   ]
  },
  {
   "cell_type": "code",
   "execution_count": 57,
   "id": "cdc22384-9413-4944-95d1-a98182d12b8a",
   "metadata": {},
   "outputs": [
    {
     "data": {
      "text/plain": [
       "True"
      ]
     },
     "execution_count": 57,
     "metadata": {},
     "output_type": "execute_result"
    }
   ],
   "source": [
    "dog_check('dog')"
   ]
  },
  {
   "cell_type": "code",
   "execution_count": 59,
   "id": "e19c73b8-9cb7-4ec4-ab40-51bb15550781",
   "metadata": {},
   "outputs": [],
   "source": [
    "def dog_check(mystring):\n",
    "    return 'dog' in mystring.lower()\n"
   ]
  },
  {
   "cell_type": "code",
   "execution_count": 61,
   "id": "53a67a2c-75af-4b7e-b2e7-d1e4623dd050",
   "metadata": {},
   "outputs": [
    {
     "data": {
      "text/plain": [
       "True"
      ]
     },
     "execution_count": 61,
     "metadata": {},
     "output_type": "execute_result"
    }
   ],
   "source": [
    "dog_check('Dog ran away')"
   ]
  },
  {
   "cell_type": "code",
   "execution_count": 71,
   "id": "0bb5554c-2989-4f52-afc8-945a8e16cc08",
   "metadata": {},
   "outputs": [
    {
     "name": "stdout",
     "output_type": "stream",
     "text": [
      "10\n"
     ]
    }
   ],
   "source": [
    "global_var = 100\n",
    "def modify_global():\n",
    "    global global_var\n",
    "    global_var = 10\n",
    "modify_global()\n",
    "print(global_var)"
   ]
  },
  {
   "cell_type": "code",
   "execution_count": 73,
   "id": "09d38e6d-7354-4208-bff4-ec2ce5b397ff",
   "metadata": {},
   "outputs": [
    {
     "name": "stdout",
     "output_type": "stream",
     "text": [
      "25\n"
     ]
    }
   ],
   "source": [
    "def my_function(x):\n",
    "    return 5 * x\n",
    "print(my_function(5))"
   ]
  },
  {
   "cell_type": "code",
   "execution_count": 75,
   "id": "44d2e1f5-2607-4091-b445-0e18d63d7292",
   "metadata": {},
   "outputs": [],
   "source": [
    "def numbers(*num):\n",
    "    return 10 *num"
   ]
  },
  {
   "cell_type": "code",
   "execution_count": 77,
   "id": "d57c2219-0a13-4bb5-a76a-70e14ef66bbc",
   "metadata": {},
   "outputs": [
    {
     "name": "stdout",
     "output_type": "stream",
     "text": [
      "(2, 5, 6, 7, 2, 5, 6, 7, 2, 5, 6, 7, 2, 5, 6, 7, 2, 5, 6, 7, 2, 5, 6, 7, 2, 5, 6, 7, 2, 5, 6, 7, 2, 5, 6, 7, 2, 5, 6, 7)\n"
     ]
    }
   ],
   "source": [
    "print(numbers(2,5,6,7))"
   ]
  },
  {
   "cell_type": "code",
   "execution_count": 79,
   "id": "bf8a647d-6caf-41c1-a3c8-1e52ca443c1c",
   "metadata": {},
   "outputs": [
    {
     "name": "stdout",
     "output_type": "stream",
     "text": [
      "[2, 5]\n"
     ]
    }
   ],
   "source": [
    "def check_number(n):\n",
    "    result = []\n",
    "    for i in range(2, n):\n",
    "        if n % i == 0:\n",
    "            result.append(i)\n",
    "    return result\n",
    "\n",
    "print(check_number(10))"
   ]
  },
  {
   "cell_type": "code",
   "execution_count": 81,
   "id": "2cef8c6b-1f47-4944-98dc-9695afda003f",
   "metadata": {},
   "outputs": [
    {
     "name": "stdout",
     "output_type": "stream",
     "text": [
      "18\n"
     ]
    }
   ],
   "source": [
    "def find_sum(lst):\n",
    "    return sum(x for x in lst if x % 3 == 0)\n",
    "\n",
    "print(find_sum([1, 2, 3, 4, 5, 6, 7, 8, 9]))"
   ]
  },
  {
   "cell_type": "code",
   "execution_count": 83,
   "id": "d4a7748d-6dee-4f04-91a2-e6f44a6e3a8a",
   "metadata": {},
   "outputs": [
    {
     "name": "stdout",
     "output_type": "stream",
     "text": [
      "None\n"
     ]
    }
   ],
   "source": [
    "def convert_to_float(s):\n",
    "    try:\n",
    "        return float(s)\n",
    "    except ValueError:\n",
    "        return None\n",
    "\n",
    "print(convert_to_float(\"abc\"))"
   ]
  },
  {
   "cell_type": "code",
   "execution_count": 89,
   "id": "00b06738-8538-4299-893b-a6a760ff9b52",
   "metadata": {},
   "outputs": [],
   "source": [
    "def func(n):\n",
    "    for i in range(n):\n",
    "        if i == 2:\n",
    "            return \"Found\"\n",
    "    return \"Not Found\""
   ]
  },
  {
   "cell_type": "code",
   "execution_count": 91,
   "id": "59abfda9-0040-43b3-8683-e1c1a5b0035f",
   "metadata": {},
   "outputs": [
    {
     "name": "stdout",
     "output_type": "stream",
     "text": [
      "Division by zero is undefined\n"
     ]
    }
   ],
   "source": [
    "def safe_divide(a, b):\n",
    "    try:\n",
    "        return a / b\n",
    "    except ZeroDivisionError:\n",
    "        return \"Division by zero is undefined\"\n",
    "\n",
    "print(safe_divide(10, 0))"
   ]
  },
  {
   "cell_type": "code",
   "execution_count": 94,
   "id": "95429622-1fdc-4ecb-91c5-351cf66bb83a",
   "metadata": {},
   "outputs": [
    {
     "name": "stdout",
     "output_type": "stream",
     "text": [
      "0 0\n",
      "0 1\n",
      "1 0\n",
      "1 1\n",
      "2 0\n",
      "2 1\n"
     ]
    }
   ],
   "source": [
    "for i in range(3):\n",
    "    for j in range(2):\n",
    "        print(i, j)"
   ]
  },
  {
   "cell_type": "code",
   "execution_count": 96,
   "id": "a8c6e278-4d76-475e-aeb1-f10ef1bed24a",
   "metadata": {},
   "outputs": [
    {
     "name": "stdout",
     "output_type": "stream",
     "text": [
      "[2, 4]\n"
     ]
    }
   ],
   "source": [
    "def find_even_numbers(lst):\n",
    "    return [x for x in lst if x % 2 == 0]\n",
    "\n",
    "print(find_even_numbers([1, 2, 3, 4, 5]))"
   ]
  },
  {
   "cell_type": "code",
   "execution_count": 98,
   "id": "916ca080-d8de-4b86-a283-96c872bf5d88",
   "metadata": {},
   "outputs": [
    {
     "name": "stdout",
     "output_type": "stream",
     "text": [
      "3\n"
     ]
    }
   ],
   "source": [
    "def count_occurrences(lst, item):\n",
    "    count = 0\n",
    "    for i in lst:\n",
    "        if i == item:\n",
    "            count += 1\n",
    "    return count\n",
    "\n",
    "print(count_occurrences([1, 2, 3, 1, 1, 4], 1))\n"
   ]
  },
  {
   "cell_type": "code",
   "execution_count": 101,
   "id": "3eb6a84b-0c3e-4428-bcc2-975dc098b562",
   "metadata": {},
   "outputs": [
    {
     "name": "stdout",
     "output_type": "stream",
     "text": [
      "Invalid input\n"
     ]
    }
   ],
   "source": [
    "def type_casting(value):\n",
    "    try:\n",
    "        return int(value)\n",
    "    except ValueError:\n",
    "        return \"Invalid input\"\n",
    "\n",
    "print(type_casting(\"123.45\"))"
   ]
  },
  {
   "cell_type": "code",
   "execution_count": 103,
   "id": "df2d2ea9-7d16-49d9-a58d-ba94bc3680bc",
   "metadata": {},
   "outputs": [
    {
     "name": "stdout",
     "output_type": "stream",
     "text": [
      "3\n"
     ]
    }
   ],
   "source": [
    "def count_vowels(s):\n",
    "    count = 0\n",
    "    vowels = \"aeiou\"\n",
    "    for char in s.lower():\n",
    "        if char in vowels:\n",
    "            count += 1\n",
    "    return count\n",
    "\n",
    "print(count_vowels(\"Hello World\"))"
   ]
  },
  {
   "cell_type": "code",
   "execution_count": 105,
   "id": "73f98664-1499-469c-a144-2f3ab7eb629b",
   "metadata": {},
   "outputs": [
    {
     "name": "stdout",
     "output_type": "stream",
     "text": [
      "IAnepO\n"
     ]
    }
   ],
   "source": [
    "def reverse_string(s):\n",
    "    return s[::-1]\n",
    "\n",
    "print(reverse_string(\"OpenAI\"))"
   ]
  },
  {
   "cell_type": "code",
   "execution_count": 108,
   "id": "caccf446-88b8-4615-82fe-12ac5d49fd4d",
   "metadata": {},
   "outputs": [
    {
     "name": "stdout",
     "output_type": "stream",
     "text": [
      "0\n",
      "1\n",
      "2\n"
     ]
    }
   ],
   "source": [
    "i = 0\n",
    "while i < 3:\n",
    "    print(i)\n",
    "    i += 1  "
   ]
  },
  {
   "cell_type": "code",
   "execution_count": 110,
   "id": "f24e6ad1-aff2-42fa-b6b4-f754038cd42a",
   "metadata": {},
   "outputs": [
    {
     "name": "stdout",
     "output_type": "stream",
     "text": [
      "[(0, 0), (0, 1), (1, 0), (1, 1)]\n"
     ]
    }
   ],
   "source": [
    "def nested_loop():\n",
    "    result = []\n",
    "    for i in range(2):\n",
    "        for j in range(2):\n",
    "            result.append((i, j))\n",
    "    return result\n",
    "\n",
    "print(nested_loop())"
   ]
  },
  {
   "cell_type": "code",
   "execution_count": 112,
   "id": "2e5cf9c8-e047-4c64-9c8c-0162c7e94033",
   "metadata": {},
   "outputs": [
    {
     "name": "stdout",
     "output_type": "stream",
     "text": [
      "15\n"
     ]
    }
   ],
   "source": [
    "def add_numbers(n):\n",
    "    total = 0\n",
    "    for i in range(n + 1):\n",
    "        total += i\n",
    "    return total\n",
    "\n",
    "print(add_numbers(5))"
   ]
  },
  {
   "cell_type": "code",
   "execution_count": 114,
   "id": "05ecdd14-5057-47bd-9c64-abed495b3d7f",
   "metadata": {},
   "outputs": [
    {
     "name": "stdout",
     "output_type": "stream",
     "text": [
      "All even numbers\n"
     ]
    }
   ],
   "source": [
    "def check_list(lst):\n",
    "    for i in range(len(lst)):\n",
    "        if lst[i] % 2 == 0:\n",
    "            continue\n",
    "        else:\n",
    "            return \"Contains odd number\"\n",
    "    return \"All even numbers\"\n",
    "\n",
    "print(check_list([2, 4, 6, 8]))"
   ]
  },
  {
   "cell_type": "code",
   "execution_count": 116,
   "id": "5ee4ec9d-e548-41f8-b724-7a31740728d1",
   "metadata": {},
   "outputs": [
    {
     "name": "stdout",
     "output_type": "stream",
     "text": [
      "Finally block executed\n"
     ]
    }
   ],
   "source": [
    "def exception_handling():\n",
    "    try:\n",
    "        return 1 / 0\n",
    "    except ZeroDivisionError:\n",
    "        return \"ZeroDivisionError caught\"\n",
    "    finally:\n",
    "        return \"Finally block executed\"\n",
    "\n",
    "print(exception_handling())"
   ]
  },
  {
   "cell_type": "code",
   "execution_count": 118,
   "id": "1b1f1897-134d-4511-838c-b9a1e9fa3781",
   "metadata": {},
   "outputs": [
    {
     "name": "stdout",
     "output_type": "stream",
     "text": [
      "Float\n"
     ]
    }
   ],
   "source": [
    "def check_type(n):\n",
    "    if isinstance(n, int):\n",
    "        return \"Integer\"\n",
    "    elif isinstance(n, float):\n",
    "        return \"Float\"\n",
    "    else:\n",
    "        return \"Other\"\n",
    "\n",
    "print(check_type(5.0))"
   ]
  },
  {
   "cell_type": "code",
   "execution_count": 120,
   "id": "0d49d2e0-7aed-4622-89d3-3c7f3a95ba76",
   "metadata": {},
   "outputs": [
    {
     "name": "stdout",
     "output_type": "stream",
     "text": [
      "This is an error\n"
     ]
    }
   ],
   "source": [
    "def raise_exception():\n",
    "    try:\n",
    "        raise ValueError(\"This is an error\")\n",
    "    except ValueError as e:\n",
    "        return str(e)\n",
    "\n",
    "print(raise_exception())"
   ]
  },
  {
   "cell_type": "code",
   "execution_count": 122,
   "id": "b1a1bd23-d0fd-4919-b35a-bf722c9c4b69",
   "metadata": {},
   "outputs": [
    {
     "name": "stdout",
     "output_type": "stream",
     "text": [
      "In range\n"
     ]
    }
   ],
   "source": [
    "def check_range(n):\n",
    "    if n in range(10):\n",
    "        return \"In range\"\n",
    "    else:\n",
    "        return \"Out of range\"\n",
    "\n",
    "print(check_range(5))"
   ]
  },
  {
   "cell_type": "code",
   "execution_count": 124,
   "id": "e342d1c9-398a-4161-91d8-b35b531c3707",
   "metadata": {},
   "outputs": [
    {
     "name": "stdout",
     "output_type": "stream",
     "text": [
      "6\n"
     ]
    }
   ],
   "source": [
    "def string_length(s):\n",
    "    return len(s)\n",
    "\n",
    "print(string_length(\"OpenAI\"))"
   ]
  },
  {
   "cell_type": "code",
   "execution_count": 126,
   "id": "79440a39-38f9-44be-a547-5004f8c5578b",
   "metadata": {},
   "outputs": [
    {
     "name": "stdout",
     "output_type": "stream",
     "text": [
      "HELLO\n"
     ]
    }
   ],
   "source": [
    "def iterate_string(s):\n",
    "    result = []\n",
    "    for char in s:\n",
    "        result.append(char.upper())\n",
    "    return \"\".join(result)\n",
    "\n",
    "print(iterate_string(\"hello\"))"
   ]
  },
  {
   "cell_type": "code",
   "execution_count": 128,
   "id": "87c9b4c7-5186-4d08-8e29-6f07c4ff9433",
   "metadata": {},
   "outputs": [
    {
     "name": "stdout",
     "output_type": "stream",
     "text": [
      "(8, 3)\n"
     ]
    }
   ],
   "source": [
    "def sum_and_count(lst):\n",
    "    total = 0\n",
    "    count = 0\n",
    "    for x in lst:\n",
    "        if x > 0:\n",
    "            total += x\n",
    "            count += 1\n",
    "    return total, count\n",
    "\n",
    "print(sum_and_count([1, -2, 3, 4, -5]))"
   ]
  },
  {
   "cell_type": "code",
   "execution_count": 130,
   "id": "20865655-a370-4a2b-a2a5-9a8e4f5d6d73",
   "metadata": {},
   "outputs": [
    {
     "name": "stdout",
     "output_type": "stream",
     "text": [
      "['HELLO', 'WORLD']\n"
     ]
    }
   ],
   "source": [
    "def to_uppercase(lst):\n",
    "    return [x.upper() for x in lst if isinstance(x, str)]\n",
    "\n",
    "print(to_uppercase([\"hello\", 123, \"world\"]))"
   ]
  },
  {
   "cell_type": "code",
   "execution_count": 132,
   "id": "84f3ec89-6ca1-45ab-b28a-44e4ffaa0282",
   "metadata": {},
   "outputs": [
    {
     "name": "stdout",
     "output_type": "stream",
     "text": [
      "A\n"
     ]
    }
   ],
   "source": [
    "x = 10\n",
    "y = 20\n",
    "if x < y:\n",
    "    if x == 10:\n",
    "        print(\"A\")\n",
    "    else:\n",
    "        print(\"B\")\n",
    "else:\n",
    "    print(\"C\")"
   ]
  },
  {
   "cell_type": "code",
   "execution_count": 134,
   "id": "c10f9f6a-f785-4a6a-b433-6d4e286db348",
   "metadata": {},
   "outputs": [
    {
     "name": "stdout",
     "output_type": "stream",
     "text": [
      "{0: 'a', 1: 'b', 2: 'c'}\n"
     ]
    }
   ],
   "source": [
    "def convert_list_to_dict(lst):\n",
    "    return {i: lst[i] for i in range(len(lst))}\n",
    "\n",
    "print(convert_list_to_dict([\"a\", \"b\", \"c\"]))"
   ]
  },
  {
   "cell_type": "code",
   "execution_count": 136,
   "id": "ca87c090-8a14-4b9d-9a6a-79218b9f1b45",
   "metadata": {},
   "outputs": [
    {
     "name": "stdout",
     "output_type": "stream",
     "text": [
      "1 2 3 "
     ]
    }
   ],
   "source": [
    "x = [1, 2, 3]\n",
    "for i in range(len(x)):\n",
    "    print(x[i], end=' ')"
   ]
  },
  {
   "cell_type": "code",
   "execution_count": 138,
   "id": "e7538ce9-fb16-4510-8571-29773cf68773",
   "metadata": {},
   "outputs": [
    {
     "name": "stdout",
     "output_type": "stream",
     "text": [
      "[0, 1, 4]\n"
     ]
    }
   ],
   "source": [
    "def generate_squares(n):\n",
    "    return [x ** 2 for x in range(n)]\n",
    "\n",
    "print(generate_squares(3))"
   ]
  },
  {
   "cell_type": "code",
   "execution_count": 140,
   "id": "5a243d03-2132-4369-a3e0-2c4e093d3234",
   "metadata": {},
   "outputs": [
    {
     "name": "stdout",
     "output_type": "stream",
     "text": [
      "9\n"
     ]
    }
   ],
   "source": [
    "def find_max(lst):\n",
    "    max_value = lst[0]\n",
    "    for x in lst:\n",
    "        if x > max_value:\n",
    "            max_value = x\n",
    "    return max_value\n",
    "\n",
    "print(find_max([1, 5, 3, 9, 2]))"
   ]
  },
  {
   "cell_type": "code",
   "execution_count": 142,
   "id": "175c5d38-9cb0-4706-aefa-ac37be852dfa",
   "metadata": {},
   "outputs": [
    {
     "name": "stdout",
     "output_type": "stream",
     "text": [
      "[2, 4]\n"
     ]
    }
   ],
   "source": [
    "def filter_negative_numbers(lst):\n",
    "    return [x for x in lst if x >= 0]\n",
    "\n",
    "print(filter_negative_numbers([-1, 2, -3, 4, -5]))"
   ]
  },
  {
   "cell_type": "code",
   "execution_count": 144,
   "id": "c2f3ed68-2e34-425b-8895-5fcfbdaf8c7f",
   "metadata": {},
   "outputs": [
    {
     "name": "stdout",
     "output_type": "stream",
     "text": [
      "Finally block\n"
     ]
    }
   ],
   "source": [
    "def exception_example():\n",
    "    try:\n",
    "        return 1 / 1\n",
    "    except ZeroDivisionError:\n",
    "        return \"Division by zero\"\n",
    "    else:\n",
    "        return \"No exception\"\n",
    "    finally:\n",
    "        return \"Finally block\"\n",
    "\n",
    "print(exception_example())"
   ]
  },
  {
   "cell_type": "code",
   "execution_count": 146,
   "id": "e6b9f7c6-9fbd-436d-b127-dfe29c129f84",
   "metadata": {},
   "outputs": [
    {
     "name": "stdout",
     "output_type": "stream",
     "text": [
      "All even numbers\n"
     ]
    }
   ],
   "source": [
    "def check_list(lst):\n",
    "    for i in range(len(lst)):\n",
    "        if lst[i] % 2 == 0:\n",
    "            continue\n",
    "        else:\n",
    "            return \"Contains odd number\"\n",
    "    return \"All even numbers\"\n",
    "\n",
    "print(check_list([2, 4, 6, 8]))"
   ]
  },
  {
   "cell_type": "code",
   "execution_count": null,
   "id": "a315b5cf-a39d-4fe0-9ce0-06ed2075a08d",
   "metadata": {},
   "outputs": [],
   "source": []
  }
 ],
 "metadata": {
  "kernelspec": {
   "display_name": "Python 3 (ipykernel)",
   "language": "python",
   "name": "python3"
  },
  "language_info": {
   "codemirror_mode": {
    "name": "ipython",
    "version": 3
   },
   "file_extension": ".py",
   "mimetype": "text/x-python",
   "name": "python",
   "nbconvert_exporter": "python",
   "pygments_lexer": "ipython3",
   "version": "3.12.4"
  }
 },
 "nbformat": 4,
 "nbformat_minor": 5
}
