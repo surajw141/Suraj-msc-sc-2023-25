{
 "cells": [
  {
   "cell_type": "code",
   "execution_count": 12,
   "id": "6ddddf2f-2f64-43e2-8eb4-0794a11febd4",
   "metadata": {},
   "outputs": [
    {
     "name": "stdout",
     "output_type": "stream",
     "text": [
      "1\n",
      "3\n",
      "5\n",
      "7\n",
      "9\n"
     ]
    }
   ],
   "source": [
    "for u in range(1,11):\n",
    "    if u % 2 == 0:\n",
    "        continue\n",
    "    print(u)"
   ]
  },
  {
   "cell_type": "code",
   "execution_count": 16,
   "id": "a4452caf-8f55-4dcb-ba6b-e873491ca12f",
   "metadata": {},
   "outputs": [
    {
     "name": "stdout",
     "output_type": "stream",
     "text": [
      "1\n",
      "2\n",
      "3\n",
      "4\n"
     ]
    }
   ],
   "source": [
    "for i in range(1,11):\n",
    "    if i == 5:\n",
    "        break\n",
    "    print(i)"
   ]
  },
  {
   "cell_type": "code",
   "execution_count": 18,
   "id": "3c2eebc5-c3c2-4f11-97d6-1454b70b3863",
   "metadata": {
    "editable": true,
    "slideshow": {
     "slide_type": ""
    },
    "tags": []
   },
   "outputs": [
    {
     "name": "stdout",
     "output_type": "stream",
     "text": [
      "1\n",
      "3\n",
      "5\n",
      "7\n",
      "9\n"
     ]
    }
   ],
   "source": [
    "for i in range(1,11):\n",
    "    if i % 2 == 0:\n",
    "        pass\n",
    "    else:\n",
    "        print(i)"
   ]
  },
  {
   "cell_type": "code",
   "execution_count": null,
   "id": "0172fad9-f7d8-4071-8821-ff7ef8ec6264",
   "metadata": {},
   "outputs": [],
   "source": [
    "x = int(input(\"Enter x \"))\n",
    "\n",
    "while x < 10:\n",
    "    print('x is currently: ', x)\n",
    "    print('x is still less than 10, adding 1 to x')\n",
    "    x+=1\n",
    "    if x ==5:\n",
    "        print('Breaking because x==5')"
   ]
  },
  {
   "cell_type": "code",
   "execution_count": null,
   "id": "2ee51c91-5113-419a-9143-c14a482f8b3a",
   "metadata": {},
   "outputs": [],
   "source": [
    "user_name = input(\"enter your name\")\n",
    "\n",
    "if user_name == sai:\n",
    "    print(\"user_name already exist\")\n",
    "elif user_name == \"Akshaya\":\n",
    "    print(\"user_name already exist\")\n",
    "elif"
   ]
  },
  {
   "cell_type": "code",
   "execution_count": 22,
   "id": "1f985cff-88cb-49db-8397-f40b7c70b24b",
   "metadata": {},
   "outputs": [
    {
     "ename": "SyntaxError",
     "evalue": "expected 'except' or 'finally' block (2414325770.py, line 3)",
     "output_type": "error",
     "traceback": [
      "\u001b[0;36m  Cell \u001b[0;32mIn[22], line 3\u001b[0;36m\u001b[0m\n\u001b[0;31m    Except:\u001b[0m\n\u001b[0m    ^\u001b[0m\n\u001b[0;31mSyntaxError\u001b[0m\u001b[0;31m:\u001b[0m expected 'except' or 'finally' block\n"
     ]
    }
   ],
   "source": [
    "try:\n",
    "    x = 100/0\n",
    "Except:"
   ]
  },
  {
   "cell_type": "code",
   "execution_count": null,
   "id": "ba87768a-5c67-4b06-8310-8be366cc42e7",
   "metadata": {},
   "outputs": [],
   "source": [
    "Exceptional handling"
   ]
  },
  {
   "cell_type": "code",
   "execution_count": 24,
   "id": "4fde375b-5bca-4a20-9645-de7b38bd166c",
   "metadata": {},
   "outputs": [
    {
     "ename": "ZeroDivisionError",
     "evalue": "division by zero",
     "output_type": "error",
     "traceback": [
      "\u001b[0;31m---------------------------------------------------------------------------\u001b[0m",
      "\u001b[0;31mZeroDivisionError\u001b[0m                         Traceback (most recent call last)",
      "Cell \u001b[0;32mIn[24], line 1\u001b[0m\n\u001b[0;32m----> 1\u001b[0m \u001b[38;5;241m2\u001b[39m\u001b[38;5;241m/\u001b[39m\u001b[38;5;241m0\u001b[39m\n",
      "\u001b[0;31mZeroDivisionError\u001b[0m: division by zero"
     ]
    }
   ],
   "source": [
    "2/0"
   ]
  },
  {
   "cell_type": "code",
   "execution_count": 30,
   "id": "32e70f2e-6de8-4d1a-8289-6ac1570f5813",
   "metadata": {
    "editable": true,
    "slideshow": {
     "slide_type": ""
    },
    "tags": []
   },
   "outputs": [
    {
     "name": "stdin",
     "output_type": "stream",
     "text": [
      "Enter a number:  1\n",
      "Enter a another number:  2\n"
     ]
    }
   ],
   "source": [
    "num1 = int(input(\"Enter a number: \"))\n",
    "num2 = int(input(\"Enter a another number: \"))\n",
    "result = num1 / num2\n",
    "print(\"Result: \", result)"
   ]
  }
 ],
 "metadata": {
  "kernelspec": {
   "display_name": "Python 3 (ipykernel)",
   "language": "python",
   "name": "python3"
  },
  "language_info": {
   "codemirror_mode": {
    "name": "ipython",
    "version": 3
   },
   "file_extension": ".py",
   "mimetype": "text/x-python",
   "name": "python",
   "nbconvert_exporter": "python",
   "pygments_lexer": "ipython3",
   "version": "3.12.4"
  }
 },
 "nbformat": 4,
 "nbformat_minor": 5
}
