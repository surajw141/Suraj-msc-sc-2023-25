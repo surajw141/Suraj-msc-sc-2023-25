{
 "cells": [
  {
   "cell_type": "code",
   "execution_count": 3,
   "id": "c35323cc-55f8-4e6f-9f55-37cf77e0d24a",
   "metadata": {},
   "outputs": [
    {
     "name": "stdout",
     "output_type": "stream",
     "text": [
      "a\n"
     ]
    },
    {
     "ename": "SyntaxError",
     "evalue": "'return' outside function (1044720963.py, line 29)",
     "output_type": "error",
     "traceback": [
      "\u001b[0;36m  Cell \u001b[0;32mIn[3], line 29\u001b[0;36m\u001b[0m\n\u001b[0;31m    return P\u001b[0m\n\u001b[0m    ^\u001b[0m\n\u001b[0;31mSyntaxError\u001b[0m\u001b[0;31m:\u001b[0m 'return' outside function\n"
     ]
    }
   ],
   "source": [
    "from geopy.geocoders import Nominatim\n",
    "print(\"a\")\n",
    "def readCities():\n",
    "\n",
    "    P=() #coordinates of cities\n",
    "    j = 0;\n",
    "\n",
    "    #Get coordinates of cities\n",
    "\n",
    "    geolocator = Nominatim(user_agent=\"Surajw141_App\")\n",
    "    with open(\"./india_cities.txt\") as file:\n",
    "        for line in file:\n",
    "\n",
    "            city = line-rstrip('\\n')\n",
    "\n",
    "            if(city == \"\"):\n",
    "                    break\n",
    "\n",
    "            city += \", India\"\n",
    "            pt = geolocator.geocode(city, timeout=10000)\n",
    "            \n",
    "            print (\"City =\", city, pt.latitude, pt.longitude)\n",
    "            \n",
    "            P.insert(j, [pt.latitude, pt.longitude])\n",
    "            \n",
    "            j += 1\n",
    "            print(\"a\")\n",
    "#P = array(P)\n",
    "            return P\n",
    "\n",
    "###------------------------------------------------"
   ]
  }
 ],
 "metadata": {
  "kernelspec": {
   "display_name": "Python 3 (ipykernel)",
   "language": "python",
   "name": "python3"
  },
  "language_info": {
   "codemirror_mode": {
    "name": "ipython",
    "version": 3
   },
   "file_extension": ".py",
   "mimetype": "text/x-python",
   "name": "python",
   "nbconvert_exporter": "python",
   "pygments_lexer": "ipython3",
   "version": "3.12.4"
  }
 },
 "nbformat": 4,
 "nbformat_minor": 5
}
