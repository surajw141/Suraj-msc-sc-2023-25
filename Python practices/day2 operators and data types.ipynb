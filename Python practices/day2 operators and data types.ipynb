{
 "cells": [
  {
   "cell_type": "code",
   "execution_count": 30,
   "id": "073cb50b-b02e-4a86-a6ec-0a9dee24e09a",
   "metadata": {},
   "outputs": [
    {
     "name": "stdout",
     "output_type": "stream",
     "text": [
      "3 == 3 False\n"
     ]
    }
   ],
   "source": [
    "print(\"3 == 3\", 3 == 4)"
   ]
  },
  {
   "cell_type": "code",
   "execution_count": 32,
   "id": "c13c011d-ccab-4233-a14d-6dbc0278ce94",
   "metadata": {},
   "outputs": [
    {
     "name": "stdout",
     "output_type": "stream",
     "text": [
      "3 != 3: False\n"
     ]
    }
   ],
   "source": [
    "print(\"3 != 3:\", 3 != 3)"
   ]
  },
  {
   "cell_type": "code",
   "execution_count": 34,
   "id": "ddfffdff-2daf-48ee-903b-08ee525f0dff",
   "metadata": {},
   "outputs": [
    {
     "name": "stdout",
     "output_type": "stream",
     "text": [
      "True and False: False\n"
     ]
    }
   ],
   "source": [
    "print(\"True and False:\", True and False)"
   ]
  },
  {
   "cell_type": "code",
   "execution_count": 36,
   "id": "496e3d7c-246e-4954-83f3-59c9e142585c",
   "metadata": {},
   "outputs": [
    {
     "name": "stdout",
     "output_type": "stream",
     "text": [
      "True or False: True\n"
     ]
    }
   ],
   "source": [
    "print(\"True or False:\", True or False)"
   ]
  },
  {
   "cell_type": "code",
   "execution_count": 38,
   "id": "5f4e3a62-76d8-4c83-8fab-aaa78e509525",
   "metadata": {},
   "outputs": [
    {
     "name": "stdout",
     "output_type": "stream",
     "text": [
      "not True: False\n"
     ]
    }
   ],
   "source": [
    "print(\"not True:\", not True)"
   ]
  },
  {
   "cell_type": "code",
   "execution_count": 19,
   "id": "e6e257a9",
   "metadata": {
    "editable": true,
    "slideshow": {
     "slide_type": ""
    },
    "tags": []
   },
   "outputs": [
    {
     "data": {
      "text/plain": [
       "int"
      ]
     },
     "execution_count": 19,
     "metadata": {},
     "output_type": "execute_result"
    }
   ],
   "source": [
    "a = 1\n",
    "type(a)"
   ]
  },
  {
   "cell_type": "code",
   "execution_count": 20,
   "id": "fbe11c88",
   "metadata": {},
   "outputs": [
    {
     "data": {
      "text/plain": [
       "str"
      ]
     },
     "execution_count": 20,
     "metadata": {},
     "output_type": "execute_result"
    }
   ],
   "source": [
    "b = 'f'\n",
    "type(b)"
   ]
  },
  {
   "cell_type": "code",
   "execution_count": 21,
   "id": "9fb914b1",
   "metadata": {},
   "outputs": [
    {
     "data": {
      "text/plain": [
       "float"
      ]
     },
     "execution_count": 21,
     "metadata": {},
     "output_type": "execute_result"
    }
   ],
   "source": [
    "c = 30.009897\n",
    "type(c)"
   ]
  },
  {
   "cell_type": "code",
   "execution_count": 22,
   "id": "ede1d325-3376-48c9-9db1-804eb92c82dc",
   "metadata": {
    "editable": true,
    "slideshow": {
     "slide_type": ""
    },
    "tags": []
   },
   "outputs": [
    {
     "name": "stdout",
     "output_type": "stream",
     "text": [
      "Hello world\n"
     ]
    }
   ],
   "source": [
    "print(\"Hello world\")"
   ]
  },
  {
   "cell_type": "code",
   "execution_count": 23,
   "id": "abfa3d13",
   "metadata": {},
   "outputs": [
    {
     "name": "stdout",
     "output_type": "stream",
     "text": [
      "1 2\n"
     ]
    }
   ],
   "source": [
    "a = 1\n",
    "b = 2\n",
    "print(a,b)"
   ]
  },
  {
   "cell_type": "code",
   "execution_count": 24,
   "id": "7d797d78",
   "metadata": {},
   "outputs": [
    {
     "name": "stdout",
     "output_type": "stream",
     "text": [
      "Hello\n"
     ]
    }
   ],
   "source": [
    "variable_one = \"Hello\"\n",
    "print(variable_one)"
   ]
  },
  {
   "cell_type": "code",
   "execution_count": 25,
   "id": "d2e2573b",
   "metadata": {},
   "outputs": [
    {
     "name": "stdout",
     "output_type": "stream",
     "text": [
      "Addition of two numbers is:  27\n"
     ]
    }
   ],
   "source": [
    "v = int(input(\"Enter your num1: \"))\n",
    "w = int(input(\"Enter your num2: \"))\n",
    "print(\"Addition of two numbers is: \", v+w)"
   ]
  },
  {
   "cell_type": "markdown",
   "id": "8943e980",
   "metadata": {},
   "source": [
    "Data types"
   ]
  },
  {
   "cell_type": "markdown",
   "id": "b04c1899",
   "metadata": {},
   "source": []
  },
  {
   "cell_type": "code",
   "execution_count": null,
   "id": "0ad38bce",
   "metadata": {},
   "outputs": [],
   "source": [
    "variable_str"
   ]
  },
  {
   "cell_type": "code",
   "execution_count": null,
   "id": "b634e864-0181-46e4-a0df-5cad48a2a139",
   "metadata": {
    "tags": []
   },
   "outputs": [],
   "source": [
    "a = 90\n",
    "print(a)"
   ]
  },
  {
   "cell_type": "code",
   "execution_count": null,
   "id": "ea6d7610-34d0-4f2a-8509-dbdc4db63b41",
   "metadata": {
    "editable": true,
    "slideshow": {
     "slide_type": ""
    },
    "tags": []
   },
   "outputs": [],
   "source": [
    "a = 1\n",
    "type(a)"
   ]
  },
  {
   "cell_type": "code",
   "execution_count": null,
   "id": "44262f3e-00a6-40e6-833a-dbbb2a75f37c",
   "metadata": {},
   "outputs": [],
   "source": [
    "b = 'f'\n",
    "type(b)"
   ]
  },
  {
   "cell_type": "code",
   "execution_count": null,
   "id": "9e0a730b-3174-4f16-873d-a63d988765f4",
   "metadata": {},
   "outputs": [],
   "source": [
    "c = 30.10000\n",
    "type(c)"
   ]
  },
  {
   "cell_type": "markdown",
   "id": "ffb6fbd6-1744-47cd-aeaf-2cf081f9cc07",
   "metadata": {
    "editable": true,
    "slideshow": {
     "slide_type": ""
    },
    "tags": []
   },
   "source": [
    "name = \"python\"\n",
    "num = 1531\n",
    "type(name)"
   ]
  },
  {
   "cell_type": "code",
   "execution_count": null,
   "id": "bd239195-a971-4abf-a4b1-aee675173e47",
   "metadata": {},
   "outputs": [],
   "source": [
    "print(\"Hello world\")"
   ]
  },
  {
   "cell_type": "code",
   "execution_count": null,
   "id": "8766d91f-8d59-48a4-ba03-b340d274b5b7",
   "metadata": {},
   "outputs": [],
   "source": [
    "a = 1\n",
    "b = 2\n",
    "print(variable,b)"
   ]
  },
  {
   "cell_type": "code",
   "execution_count": null,
   "id": "51ad7d4f-9977-4bd4-a94f-6a19107a91f9",
   "metadata": {},
   "outputs": [],
   "source": [
    "variable_one = \"hello\"\n",
    "print(variable_one)"
   ]
  },
  {
   "cell_type": "code",
   "execution_count": null,
   "id": "9425566e-49f5-491b-b0e4-0fae52ca6d00",
   "metadata": {},
   "outputs": [],
   "source": [
    "v = input()"
   ]
  },
  {
   "cell_type": "code",
   "execution_count": null,
   "id": "9fce7b81-563b-4f38-b252-a9314c594988",
   "metadata": {
    "scrolled": true
   },
   "outputs": [],
   "source": [
    "a = int(input(\"Enter your num: \"))\n",
    "b = int(input(\"Enter your num: \"))\n",
    "print(a + b)"
   ]
  },
  {
   "cell_type": "markdown",
   "id": "4f94816a-c084-4def-b27a-43c2c04821d6",
   "metadata": {},
   "source": [
    "type casting coding"
   ]
  },
  {
   "cell_type": "code",
   "execution_count": 14,
   "id": "41337997-e9f7-4c6b-9f47-bb173a7695e3",
   "metadata": {},
   "outputs": [
    {
     "name": "stdout",
     "output_type": "stream",
     "text": [
      "10 <class 'int'>\n"
     ]
    }
   ],
   "source": [
    "num_str = \"10\"\n",
    "num_int = int(num_str)\n",
    "print(num_int,type(num_int))"
   ]
  },
  {
   "cell_type": "code",
   "execution_count": 12,
   "id": "fdd324cf-5f72-4850-a6df-c02fae2d0c7e",
   "metadata": {},
   "outputs": [
    {
     "name": "stdout",
     "output_type": "stream",
     "text": [
      "3 <class 'int'>\n"
     ]
    }
   ],
   "source": [
    "num_float = 3.14\n",
    "\n",
    "num_int = int(num_float)\n",
    "\n",
    "print(num_int,type(num_int))"
   ]
  },
  {
   "cell_type": "code",
   "execution_count": 10,
   "id": "8491655a-975d-4f6c-bcbc-01f1a5c46ba4",
   "metadata": {},
   "outputs": [
    {
     "name": "stdout",
     "output_type": "stream",
     "text": [
      "123 <class 'str'>\n"
     ]
    }
   ],
   "source": [
    "num_int = 123\n",
    "\n",
    "num_str = str(num_int)\n",
    "\n",
    "print(num_str,type(num_str))"
   ]
  },
  {
   "cell_type": "code",
   "execution_count": 18,
   "id": "47f164a6-da19-4d0b-a37d-f7e2d46c0bce",
   "metadata": {},
   "outputs": [
    {
     "name": "stdout",
     "output_type": "stream",
     "text": [
      "3.14 <class 'float'>\n"
     ]
    }
   ],
   "source": [
    "num_str = \"3.14\"\n",
    "\n",
    "num_float = float(num_str)\n",
    "\n",
    "print(num_float,type(num_float))"
   ]
  },
  {
   "cell_type": "code",
   "execution_count": 22,
   "id": "2e0fc639-4803-44ef-b1e0-af0a639b148a",
   "metadata": {},
   "outputs": [
    {
     "name": "stdout",
     "output_type": "stream",
     "text": [
      "1 <class 'int'>\n"
     ]
    }
   ],
   "source": [
    "bool_val = True\n",
    "\n",
    "num_int = int(bool_val)\n",
    "\n",
    "print(num_int,type(num_int))"
   ]
  },
  {
   "cell_type": "code",
   "execution_count": 24,
   "id": "7e40fc52-cf8b-4cef-a7ad-692c9bdbf532",
   "metadata": {},
   "outputs": [
    {
     "name": "stdout",
     "output_type": "stream",
     "text": [
      "False <class 'bool'>\n"
     ]
    }
   ],
   "source": [
    "num_int = 0\n",
    "\n",
    "bool_val = bool(num_int)\n",
    "\n",
    "print(bool_val, type(bool_val))"
   ]
  },
  {
   "cell_type": "code",
   "execution_count": 26,
   "id": "560f20ce-31f1-4d71-bd5d-bf6b8e09f0a0",
   "metadata": {},
   "outputs": [
    {
     "name": "stdout",
     "output_type": "stream",
     "text": [
      "False <class 'bool'>\n"
     ]
    }
   ],
   "source": [
    "num_int = 0\n",
    "\n",
    "bool_val = bool(num_int)\n",
    "\n",
    "print(bool_val, type(bool_val))"
   ]
  },
  {
   "cell_type": "code",
   "execution_count": 28,
   "id": "3449157e-929f-43de-9cc0-2980198907dc",
   "metadata": {},
   "outputs": [
    {
     "name": "stdout",
     "output_type": "stream",
     "text": [
      "[1, 2, 3] <class 'list'>\n"
     ]
    }
   ],
   "source": [
    "my_tuple = (1, 2, 3)\n",
    "\n",
    "my_list = list(my_tuple)\n",
    "\n",
    "print(my_list, type(my_list))"
   ]
  },
  {
   "cell_type": "code",
   "execution_count": null,
   "id": "1d460048-c8b8-4d8b-a934-db26fa559523",
   "metadata": {},
   "outputs": [],
   "source": []
  },
  {
   "cell_type": "code",
   "execution_count": null,
   "id": "e23a0513-5cdc-42e8-89bd-501ec943e216",
   "metadata": {},
   "outputs": [],
   "source": []
  },
  {
   "cell_type": "code",
   "execution_count": null,
   "id": "9ac7fc0c-0afc-4af7-aacb-34193c8f6fff",
   "metadata": {},
   "outputs": [],
   "source": []
  },
  {
   "cell_type": "code",
   "execution_count": null,
   "id": "940c76b2-b46c-446f-b1d6-6031cb3608f9",
   "metadata": {},
   "outputs": [],
   "source": []
  },
  {
   "cell_type": "code",
   "execution_count": null,
   "id": "0e5906ad-48cf-4d06-ae9b-3fd1890ae746",
   "metadata": {},
   "outputs": [],
   "source": []
  }
 ],
 "metadata": {
  "kernelspec": {
   "display_name": "Python 3 (ipykernel)",
   "language": "python",
   "name": "python3"
  },
  "language_info": {
   "codemirror_mode": {
    "name": "ipython",
    "version": 3
   },
   "file_extension": ".py",
   "mimetype": "text/x-python",
   "name": "python",
   "nbconvert_exporter": "python",
   "pygments_lexer": "ipython3",
   "version": "3.12.4"
  }
 },
 "nbformat": 4,
 "nbformat_minor": 5
}
