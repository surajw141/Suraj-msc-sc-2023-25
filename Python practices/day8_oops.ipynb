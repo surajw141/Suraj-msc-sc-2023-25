{
 "cells": [
  {
   "cell_type": "markdown",
   "id": "7555dbe3-4869-4eb3-8b58-f1f892169b06",
   "metadata": {
    "panel-layout": {
     "height": 51.15000915527344,
     "visible": true,
     "width": 100
    }
   },
   "source": [
    "OOPs concepts"
   ]
  },
  {
   "cell_type": "code",
   "execution_count": 1,
   "id": "47d35302-80c2-420c-9092-5d6467be6b48",
   "metadata": {},
   "outputs": [
    {
     "name": "stdout",
     "output_type": "stream",
     "text": [
      "sharvari\n"
     ]
    }
   ],
   "source": [
    "class Students:\n",
    "    name = \"sharvari\"\n",
    "\n",
    "\n",
    "#creating an object\n",
    "s1 = Students()\n",
    "print(s1.name)"
   ]
  },
  {
   "cell_type": "code",
   "execution_count": 3,
   "id": "565c88f4-581e-4298-8c30-c91fb6681c38",
   "metadata": {},
   "outputs": [
    {
     "name": "stdout",
     "output_type": "stream",
     "text": [
      "blue\n",
      "mercedes\n"
     ]
    }
   ],
   "source": [
    "class car:\n",
    "    color=\"blue\"\n",
    "    brand=\"mercedes\"\n",
    "car1=car()\n",
    "print(car.color)\n",
    "print(car.brand)"
   ]
  },
  {
   "cell_type": "code",
   "execution_count": 5,
   "id": "8e69865f-8e25-4424-ae1b-30a3b6440d80",
   "metadata": {},
   "outputs": [
    {
     "name": "stdout",
     "output_type": "stream",
     "text": [
      "adding new student in database..\n"
     ]
    }
   ],
   "source": [
    "class Student:\n",
    "    def __init__(self):\n",
    "        print(\"adding new student in database..\")\n",
    "\n",
    "##creating an object\n",
    "s1 = Student()"
   ]
  },
  {
   "cell_type": "code",
   "execution_count": 11,
   "id": "459ee81e-80ab-41e6-9054-3951fce7bb5d",
   "metadata": {},
   "outputs": [
    {
     "name": "stdout",
     "output_type": "stream",
     "text": [
      "adding new student in database..\n",
      "sharvari\n"
     ]
    }
   ],
   "source": [
    "class Student:\n",
    "    def __init__(self,fullname):\n",
    "        self.name=fullname\n",
    "        print(\"adding new student in database..\")\n",
    "\n",
    "##creating an object\n",
    "s1 = Student(\"sharvari\")\n",
    "print(s1.name)"
   ]
  },
  {
   "cell_type": "code",
   "execution_count": 15,
   "id": "1412970a-0b59-427a-bfb9-b188c52e50ab",
   "metadata": {},
   "outputs": [
    {
     "name": "stdout",
     "output_type": "stream",
     "text": [
      "karan 97\n",
      "ABC college\n"
     ]
    }
   ],
   "source": [
    "class student:\n",
    "    college_name=\"ABC college\"\n",
    "    def __init__(self,name,marks):\n",
    "        self.name=name\n",
    "        self.marks=marks\n",
    "\n",
    "s1=student(\"karan\",97)\n",
    "print(s1.name,s1.marks)\n",
    "\n",
    "s2=student(\"sharvari\",80)\n",
    "print(s2.college_name)"
   ]
  },
  {
   "cell_type": "code",
   "execution_count": 23,
   "id": "eecec507-ef05-4521-b978-b68ca505db0d",
   "metadata": {},
   "outputs": [
    {
     "name": "stdout",
     "output_type": "stream",
     "text": [
      "hello karan\n"
     ]
    }
   ],
   "source": [
    "class student:\n",
    "    def __init__(self,name):\n",
    "        self.name=name\n",
    "    def hello(self):\n",
    "        print(\"hello\",self.name)\n",
    "\n",
    "s1=student(\"karan\")\n",
    "s1.hello()"
   ]
  },
  {
   "cell_type": "code",
   "execution_count": null,
   "id": "fff44f41-827d-472f-8f86-2efa0e895a74",
   "metadata": {},
   "outputs": [],
   "source": [
    "class Student:\n",
    "    def __init__(self, name):\n",
    "        self.name = name\n",
    "\n",
    "\n",
    "    @staticmethod\n",
    "    def hello():\n",
    "        print(\"hello\")"
   ]
  },
  {
   "cell_type": "code",
   "execution_count": 29,
   "id": "24e78d52-7db4-48ee-b181-42450210a21c",
   "metadata": {},
   "outputs": [
    {
     "name": "stdout",
     "output_type": "stream",
     "text": [
      "hello karan\n"
     ]
    }
   ],
   "source": [
    "class Students:\n",
    "    def __init__(self, name):\n",
    "        self.name = name\n",
    "\n",
    "    @staticmethod\n",
    "    def hello(name):\n",
    "        print(\"hello\", name)\n",
    "\n",
    "s1 = Students(\"karan\")\n",
    "s1.hello(s1.name)"
   ]
  },
  {
   "cell_type": "code",
   "execution_count": null,
   "id": "c1f5cd2a-29ca-466c-9fc5-213314fb0319",
   "metadata": {},
   "outputs": [],
   "source": []
  },
  {
   "cell_type": "code",
   "execution_count": null,
   "id": "c79e942d-698c-4957-9ac2-32d452f96cff",
   "metadata": {},
   "outputs": [],
   "source": []
  },
  {
   "cell_type": "code",
   "execution_count": null,
   "id": "d38c2933-a4c3-430b-9507-37211ebb3adf",
   "metadata": {},
   "outputs": [],
   "source": []
  },
  {
   "cell_type": "code",
   "execution_count": null,
   "id": "033661d3-17ea-440a-803e-d5056aa10829",
   "metadata": {},
   "outputs": [],
   "source": []
  },
  {
   "cell_type": "code",
   "execution_count": null,
   "id": "85853f16-863f-41ea-8b34-6e6ea6251ba9",
   "metadata": {},
   "outputs": [],
   "source": []
  },
  {
   "cell_type": "code",
   "execution_count": null,
   "id": "0f6da703-a7e1-4996-83f0-7f473004f0a7",
   "metadata": {},
   "outputs": [],
   "source": []
  },
  {
   "cell_type": "code",
   "execution_count": null,
   "id": "ac170487-49fe-4c3a-b2d5-b2431c6e69ae",
   "metadata": {},
   "outputs": [],
   "source": []
  },
  {
   "cell_type": "code",
   "execution_count": null,
   "id": "98ebe6b0-fb1b-4810-94ee-7953cf62f672",
   "metadata": {},
   "outputs": [],
   "source": []
  }
 ],
 "metadata": {
  "kernelspec": {
   "display_name": "Python 3 (ipykernel)",
   "language": "python",
   "name": "python3"
  },
  "language_info": {
   "codemirror_mode": {
    "name": "ipython",
    "version": 3
   },
   "file_extension": ".py",
   "mimetype": "text/x-python",
   "name": "python",
   "nbconvert_exporter": "python",
   "pygments_lexer": "ipython3",
   "version": "3.12.4"
  },
  "panel-cell-order": [
   "7555dbe3-4869-4eb3-8b58-f1f892169b06"
  ]
 },
 "nbformat": 4,
 "nbformat_minor": 5
}
