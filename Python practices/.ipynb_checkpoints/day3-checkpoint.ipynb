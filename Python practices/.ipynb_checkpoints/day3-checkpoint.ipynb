{
 "cells": [
  {
   "cell_type": "markdown",
   "id": "dee9226f-0692-4c1c-807b-e196bc238730",
   "metadata": {
    "editable": true,
    "slideshow": {
     "slide_type": ""
    },
    "tags": []
   },
   "source": [
    "Lists"
   ]
  },
  {
   "cell_type": "markdown",
   "id": "cf1e2c61-6b09-4b12-9b61-092108e7da15",
   "metadata": {},
   "source": [
    "Create a list"
   ]
  },
  {
   "cell_type": "code",
   "execution_count": 10,
   "id": "adf50516-0bed-408c-873a-f193cd3abe07",
   "metadata": {},
   "outputs": [],
   "source": [
    "fruits = [\"apple\", \"banana\", \"orange\", \"grape\"]"
   ]
  },
  {
   "cell_type": "code",
   "execution_count": null,
   "id": "1fefaf6f-8bc5-4896-8c5e-8c497a378439",
   "metadata": {},
   "outputs": [],
   "source": [
    "append() : Adds an item to the end of the list"
   ]
  },
  {
   "cell_type": "code",
   "execution_count": 13,
   "id": "bddd8bd6-ed45-405d-b1f2-764ac7751353",
   "metadata": {},
   "outputs": [],
   "source": [
    "fruits.append(\"kiwi\")"
   ]
  },
  {
   "cell_type": "code",
   "execution_count": 15,
   "id": "204bb4d7-ab11-430d-bd43-489726f7da0f",
   "metadata": {},
   "outputs": [
    {
     "data": {
      "text/plain": [
       "['apple', 'banana', 'orange', 'grape', 'kiwi']"
      ]
     },
     "execution_count": 15,
     "metadata": {},
     "output_type": "execute_result"
    }
   ],
   "source": [
    "fruits"
   ]
  },
  {
   "cell_type": "markdown",
   "id": "32c02cda-2aaa-4bbd-88ff-ff25883be9c9",
   "metadata": {},
   "source": [
    "extend() : Appends items from another list to the end of the current list"
   ]
  },
  {
   "cell_type": "code",
   "execution_count": 23,
   "id": "4f112afa-3020-44eb-a057-fbd740b28f48",
   "metadata": {},
   "outputs": [],
   "source": [
    "berries = [\"strawberry\", \"blueberry\", \"raspberry\"]\n",
    "fruits.extend(berries)\n",
    "# fruits: ['apple', 'banana', 'orange', 'grape', 'kiwi', 'strawberry', 'blueberry', 'raspberry']"
   ]
  },
  {
   "cell_type": "markdown",
   "id": "6ac7b5e9-9269-4477-ab78-f25a97750815",
   "metadata": {},
   "source": [
    "insert() : Inserts an item at a specific index in the list."
   ]
  },
  {
   "cell_type": "code",
   "execution_count": 21,
   "id": "2cc38c75-f36c-4688-bd69-fff20935740e",
   "metadata": {},
   "outputs": [],
   "source": [
    "fruits.insert(1, \"mango\")\n",
    "# fruits: ['apple', 'mango', 'banana', 'orange', 'grape', 'kiwi', 'strawberry', 'blueberry', 'raspberry']"
   ]
  },
  {
   "cell_type": "code",
   "execution_count": null,
   "id": "0b93323a-3bcb-4b85-b861-8f5c6f6e2413",
   "metadata": {},
   "outputs": [],
   "source": []
  }
 ],
 "metadata": {
  "kernelspec": {
   "display_name": "Python 3 (ipykernel)",
   "language": "python",
   "name": "python3"
  },
  "language_info": {
   "codemirror_mode": {
    "name": "ipython",
    "version": 3
   },
   "file_extension": ".py",
   "mimetype": "text/x-python",
   "name": "python",
   "nbconvert_exporter": "python",
   "pygments_lexer": "ipython3",
   "version": "3.12.4"
  }
 },
 "nbformat": 4,
 "nbformat_minor": 5
}
